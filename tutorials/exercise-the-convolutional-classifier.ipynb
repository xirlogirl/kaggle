{
 "cells": [
  {
   "cell_type": "markdown",
   "id": "c711e817",
   "metadata": {
    "papermill": {
     "duration": 0.006261,
     "end_time": "2024-07-01T14:39:19.325713",
     "exception": false,
     "start_time": "2024-07-01T14:39:19.319452",
     "status": "completed"
    },
    "tags": []
   },
   "source": [
    "**This notebook is an exercise in the [Computer Vision](https://www.kaggle.com/learn/computer-vision) course.  You can reference the tutorial at [this link](https://www.kaggle.com/ryanholbrook/the-convolutional-classifier).**\n",
    "\n",
    "---\n"
   ]
  },
  {
   "cell_type": "markdown",
   "id": "da588cba",
   "metadata": {
    "papermill": {
     "duration": 0.005394,
     "end_time": "2024-07-01T14:39:19.336915",
     "exception": false,
     "start_time": "2024-07-01T14:39:19.331521",
     "status": "completed"
    },
    "tags": []
   },
   "source": [
    "<blockquote style=\"margin-right:auto; margin-left:auto; background-color: #ebf9ff; padding: 1em; margin:24px;\">\n",
    "    <strong>Accelerate Training with a Kaggle GPU!</strong><br>\n",
    "Did you know Kaggle offers free time with a GPU accelerator? You can speed up training neural networks in this course by switching to <strong>GPU</strong> in the <em>Accelerator</em> option on the right. (It may already be turned on.) Two things to be aware of:\n",
    "<ul>\n",
    "<li>Changing the <em>Accelerator</em> option will cause the notebook session to restart. You'll need to rerun any setup code.\n",
    "<li>You can have only one GPU session at a time, so be sure to shut the notebook down after you've finished the exercise.\n",
    "</ul>\n",
    "</blockquote>"
   ]
  },
  {
   "cell_type": "markdown",
   "id": "d6e715eb",
   "metadata": {
    "papermill": {
     "duration": 0.005419,
     "end_time": "2024-07-01T14:39:19.348229",
     "exception": false,
     "start_time": "2024-07-01T14:39:19.342810",
     "status": "completed"
    },
    "tags": []
   },
   "source": [
    "# Introduction #\n",
    "\n",
    "In the tutorial, we saw how to build an image classifier by attaching a head of dense layers to a pretrained base. The base we used was from a model called **VGG16**. We saw that the VGG16 architecture was prone to overfitting this dataset. Over this course, you'll learn a number of ways you can improve upon this initial attempt.\n",
    "\n",
    "The first way you'll see is to use a base more appropriate to the dataset. The base this model comes from is called **InceptionV1** (also known as GoogLeNet). InceptionV1 was one of the early winners of the ImageNet competition. One of its successors, InceptionV4, is among the state of the art today.\n",
    "\n",
    "To get started, run the code cell below to set everything up."
   ]
  },
  {
   "cell_type": "code",
   "execution_count": 1,
   "id": "0f08bf4a",
   "metadata": {
    "execution": {
     "iopub.execute_input": "2024-07-01T14:39:19.361323Z",
     "iopub.status.busy": "2024-07-01T14:39:19.360854Z",
     "iopub.status.idle": "2024-07-01T14:39:40.173534Z",
     "shell.execute_reply": "2024-07-01T14:39:40.172490Z"
    },
    "lines_to_next_cell": 2,
    "papermill": {
     "duration": 20.822154,
     "end_time": "2024-07-01T14:39:40.175972",
     "exception": false,
     "start_time": "2024-07-01T14:39:19.353818",
     "status": "completed"
    },
    "tags": []
   },
   "outputs": [
    {
     "name": "stderr",
     "output_type": "stream",
     "text": [
      "2024-07-01 14:39:22.017895: E external/local_xla/xla/stream_executor/cuda/cuda_dnn.cc:9261] Unable to register cuDNN factory: Attempting to register factory for plugin cuDNN when one has already been registered\n",
      "2024-07-01 14:39:22.018016: E external/local_xla/xla/stream_executor/cuda/cuda_fft.cc:607] Unable to register cuFFT factory: Attempting to register factory for plugin cuFFT when one has already been registered\n",
      "2024-07-01 14:39:22.155952: E external/local_xla/xla/stream_executor/cuda/cuda_blas.cc:1515] Unable to register cuBLAS factory: Attempting to register factory for plugin cuBLAS when one has already been registered\n"
     ]
    },
    {
     "name": "stdout",
     "output_type": "stream",
     "text": [
      "Found 5117 files belonging to 2 classes.\n",
      "Found 5051 files belonging to 2 classes.\n"
     ]
    }
   ],
   "source": [
    "# Setup feedback system\n",
    "from learntools.core import binder\n",
    "binder.bind(globals())\n",
    "from learntools.computer_vision.ex1 import *\n",
    "\n",
    "# Imports\n",
    "import os, warnings\n",
    "import matplotlib.pyplot as plt\n",
    "from matplotlib import gridspec\n",
    "\n",
    "import numpy as np\n",
    "import tensorflow as tf\n",
    "from tensorflow.keras.preprocessing import image_dataset_from_directory\n",
    "\n",
    "# Reproducability\n",
    "def set_seed(seed=31415):\n",
    "    np.random.seed(seed)\n",
    "    tf.random.set_seed(seed)\n",
    "    os.environ['PYTHONHASHSEED'] = str(seed)\n",
    "    os.environ['TF_DETERMINISTIC_OPS'] = '1'\n",
    "set_seed()\n",
    "\n",
    "# Set Matplotlib defaults\n",
    "plt.rc('figure', autolayout=True)\n",
    "plt.rc('axes', labelweight='bold', labelsize='large',\n",
    "       titleweight='bold', titlesize=18, titlepad=10)\n",
    "plt.rc('image', cmap='magma')\n",
    "warnings.filterwarnings(\"ignore\") # to clean up output cells\n",
    "\n",
    "\n",
    "# Load training and validation sets\n",
    "ds_train_ = image_dataset_from_directory(\n",
    "    '../input/car-or-truck/train',\n",
    "    labels='inferred',\n",
    "    label_mode='binary',\n",
    "    image_size=[128, 128],\n",
    "    interpolation='nearest',\n",
    "    batch_size=64,\n",
    "    shuffle=True,\n",
    ")\n",
    "ds_valid_ = image_dataset_from_directory(\n",
    "    '../input/car-or-truck/valid',\n",
    "    labels='inferred',\n",
    "    label_mode='binary',\n",
    "    image_size=[128, 128],\n",
    "    interpolation='nearest',\n",
    "    batch_size=64,\n",
    "    shuffle=False,\n",
    ")\n",
    "\n",
    "# Data Pipeline\n",
    "def convert_to_float(image, label):\n",
    "    image = tf.image.convert_image_dtype(image, dtype=tf.float32)\n",
    "    return image, label\n",
    "\n",
    "AUTOTUNE = tf.data.experimental.AUTOTUNE\n",
    "ds_train = (\n",
    "    ds_train_\n",
    "    .map(convert_to_float)\n",
    "    .cache()\n",
    "    .prefetch(buffer_size=AUTOTUNE)\n",
    ")\n",
    "ds_valid = (\n",
    "    ds_valid_\n",
    "    .map(convert_to_float)\n",
    "    .cache()\n",
    "    .prefetch(buffer_size=AUTOTUNE)\n",
    ")\n"
   ]
  },
  {
   "cell_type": "markdown",
   "id": "f35c0bfc",
   "metadata": {
    "papermill": {
     "duration": 0.005991,
     "end_time": "2024-07-01T14:39:40.188201",
     "exception": false,
     "start_time": "2024-07-01T14:39:40.182210",
     "status": "completed"
    },
    "tags": []
   },
   "source": [
    "The **InceptionV1** model pretrained on ImageNet is available in the [TensorFlow Hub](https://www.tensorflow.org/hub/) repository, but we'll load it from a local copy. Run this cell to load InceptionV1 for your base."
   ]
  },
  {
   "cell_type": "code",
   "execution_count": 2,
   "id": "695d3068",
   "metadata": {
    "execution": {
     "iopub.execute_input": "2024-07-01T14:39:40.201773Z",
     "iopub.status.busy": "2024-07-01T14:39:40.201005Z",
     "iopub.status.idle": "2024-07-01T14:39:44.118227Z",
     "shell.execute_reply": "2024-07-01T14:39:44.117443Z"
    },
    "lines_to_next_cell": 0,
    "papermill": {
     "duration": 3.932346,
     "end_time": "2024-07-01T14:39:44.126503",
     "exception": false,
     "start_time": "2024-07-01T14:39:40.194157",
     "status": "completed"
    },
    "tags": []
   },
   "outputs": [],
   "source": [
    "# Loading the InceptionV1 model\n",
    "import tensorflow_hub as hub\n",
    "\n",
    "pretrained_base = tf.keras.models.load_model(\n",
    "    '../input/cv-course-models/cv-course-models/inceptionv1'\n",
    ")"
   ]
  },
  {
   "cell_type": "markdown",
   "id": "ae2419dd",
   "metadata": {
    "papermill": {
     "duration": 0.005813,
     "end_time": "2024-07-01T14:39:44.138731",
     "exception": false,
     "start_time": "2024-07-01T14:39:44.132918",
     "status": "completed"
    },
    "tags": []
   },
   "source": [
    "# 1) Define Pretrained Base #\n",
    "\n",
    "Now that you have a pretrained base to do our feature extraction, decide whether this base should be trainable or not."
   ]
  },
  {
   "cell_type": "code",
   "execution_count": 3,
   "id": "700a6529",
   "metadata": {
    "execution": {
     "iopub.execute_input": "2024-07-01T14:39:44.152367Z",
     "iopub.status.busy": "2024-07-01T14:39:44.151583Z",
     "iopub.status.idle": "2024-07-01T14:39:44.160556Z",
     "shell.execute_reply": "2024-07-01T14:39:44.159695Z"
    },
    "lines_to_next_cell": 0,
    "papermill": {
     "duration": 0.017951,
     "end_time": "2024-07-01T14:39:44.162565",
     "exception": false,
     "start_time": "2024-07-01T14:39:44.144614",
     "status": "completed"
    },
    "tags": []
   },
   "outputs": [
    {
     "data": {
      "application/javascript": [
       "parent.postMessage({\"jupyterEvent\": \"custom.exercise_interaction\", \"data\": {\"outcomeType\": 1, \"valueTowardsCompletion\": 0.25, \"interactionType\": 1, \"questionType\": 2, \"questionId\": \"1_Q1\", \"learnToolsVersion\": \"0.3.4\", \"failureMessage\": \"\", \"exceptionClass\": \"\", \"trace\": \"\"}}, \"*\")"
      ],
      "text/plain": [
       "<IPython.core.display.Javascript object>"
      ]
     },
     "metadata": {},
     "output_type": "display_data"
    },
    {
     "data": {
      "text/markdown": [
       "<span style=\"color:#33cc33\">Correct:</span> When doing transfer learning, it's generally not a good idea to retrain the entire base -- at least not without some care. The reason is that the random weights in the head will initially create large gradient updates, which propogate back into the base layers and destroy much of the pretraining. Using techniques known as **fine tuning** it's possible to further train the base on new data, but this requires some care to do well."
      ],
      "text/plain": [
       "Correct: When doing transfer learning, it's generally not a good idea to retrain the entire base -- at least not without some care. The reason is that the random weights in the head will initially create large gradient updates, which propogate back into the base layers and destroy much of the pretraining. Using techniques known as **fine tuning** it's possible to further train the base on new data, but this requires some care to do well."
      ]
     },
     "metadata": {},
     "output_type": "display_data"
    }
   ],
   "source": [
    "# YOUR_CODE_HERE\n",
    "pretrained_base.trainable = False\n",
    "\n",
    "# Check your answer\n",
    "q_1.check()"
   ]
  },
  {
   "cell_type": "code",
   "execution_count": 4,
   "id": "caaddfc7",
   "metadata": {
    "execution": {
     "iopub.execute_input": "2024-07-01T14:39:44.176245Z",
     "iopub.status.busy": "2024-07-01T14:39:44.175975Z",
     "iopub.status.idle": "2024-07-01T14:39:44.179519Z",
     "shell.execute_reply": "2024-07-01T14:39:44.178730Z"
    },
    "papermill": {
     "duration": 0.012635,
     "end_time": "2024-07-01T14:39:44.181455",
     "exception": false,
     "start_time": "2024-07-01T14:39:44.168820",
     "status": "completed"
    },
    "tags": []
   },
   "outputs": [],
   "source": [
    "# Lines below will give you a hint or solution code\n",
    "#q_1.hint()\n",
    "#q_1.solution()"
   ]
  },
  {
   "cell_type": "markdown",
   "id": "75c1dff6",
   "metadata": {
    "papermill": {
     "duration": 0.006322,
     "end_time": "2024-07-01T14:39:44.194953",
     "exception": false,
     "start_time": "2024-07-01T14:39:44.188631",
     "status": "completed"
    },
    "tags": []
   },
   "source": [
    "# 2) Attach Head #\n",
    "\n",
    "Now that the base is defined to do the feature extraction, create a head of `Dense` layers to perform the classification, following this diagram:\n",
    "\n",
    "<figure>\n",
    "<img src=\"https://storage.googleapis.com/kaggle-media/learn/images/i5VU7Ry.png\" alt=\"Diagram of the dense head.\">\n",
    "</figure>\n"
   ]
  },
  {
   "cell_type": "code",
   "execution_count": 5,
   "id": "b615bf83",
   "metadata": {
    "execution": {
     "iopub.execute_input": "2024-07-01T14:39:44.208470Z",
     "iopub.status.busy": "2024-07-01T14:39:44.208188Z",
     "iopub.status.idle": "2024-07-01T14:39:44.228315Z",
     "shell.execute_reply": "2024-07-01T14:39:44.227467Z"
    },
    "lines_to_next_cell": 0,
    "papermill": {
     "duration": 0.029246,
     "end_time": "2024-07-01T14:39:44.230375",
     "exception": false,
     "start_time": "2024-07-01T14:39:44.201129",
     "status": "completed"
    },
    "tags": []
   },
   "outputs": [
    {
     "data": {
      "application/javascript": [
       "parent.postMessage({\"jupyterEvent\": \"custom.exercise_interaction\", \"data\": {\"outcomeType\": 1, \"valueTowardsCompletion\": 0.25, \"interactionType\": 1, \"questionType\": 2, \"questionId\": \"2_Q2\", \"learnToolsVersion\": \"0.3.4\", \"failureMessage\": \"\", \"exceptionClass\": \"\", \"trace\": \"\"}}, \"*\")"
      ],
      "text/plain": [
       "<IPython.core.display.Javascript object>"
      ]
     },
     "metadata": {},
     "output_type": "display_data"
    },
    {
     "data": {
      "text/markdown": [
       "<span style=\"color:#33cc33\">Correct</span>"
      ],
      "text/plain": [
       "Correct"
      ]
     },
     "metadata": {},
     "output_type": "display_data"
    }
   ],
   "source": [
    "# Attach the classifier head on to the pre-trained base model. Added the two dense layers here.\n",
    "\n",
    "from tensorflow import keras\n",
    "from tensorflow.keras import layers\n",
    "\n",
    "model = keras.Sequential([\n",
    "    pretrained_base,\n",
    "    layers.Flatten(),\n",
    "    layers.Dense(6, activation='relu'),\n",
    "    layers.Dense(1, activation='sigmoid'),\n",
    "])\n",
    "\n",
    "# Check your answer\n",
    "q_2.check()"
   ]
  },
  {
   "cell_type": "code",
   "execution_count": 6,
   "id": "80d2ad9e",
   "metadata": {
    "execution": {
     "iopub.execute_input": "2024-07-01T14:39:44.245360Z",
     "iopub.status.busy": "2024-07-01T14:39:44.244710Z",
     "iopub.status.idle": "2024-07-01T14:39:44.248330Z",
     "shell.execute_reply": "2024-07-01T14:39:44.247504Z"
    },
    "papermill": {
     "duration": 0.013063,
     "end_time": "2024-07-01T14:39:44.250195",
     "exception": false,
     "start_time": "2024-07-01T14:39:44.237132",
     "status": "completed"
    },
    "tags": []
   },
   "outputs": [],
   "source": [
    "# Lines below will give you a hint or solution code\n",
    "#q_2.hint()\n",
    "#q_2.solution()"
   ]
  },
  {
   "cell_type": "markdown",
   "id": "69b1f35b",
   "metadata": {
    "papermill": {
     "duration": 0.006508,
     "end_time": "2024-07-01T14:39:44.263249",
     "exception": false,
     "start_time": "2024-07-01T14:39:44.256741",
     "status": "completed"
    },
    "tags": []
   },
   "source": [
    "# 3) Train #\n",
    "\n",
    "Before training a model in Keras, you need to specify an *optimizer* to perform the gradient descent, a *loss function* to be minimized, and (optionally) any *performance metrics*. The optimization algorithm we'll use for this course is called [\"Adam\"](https://keras.io/api/optimizers/adam/), which generally performs well regardless of what kind of problem you're trying to solve.\n",
    "\n",
    "The loss and the metrics, however, need to match the kind of problem you're trying to solve. Our problem is a **binary classification** problem: `Car` coded as 0, and `Truck` coded as 1. Choose an appropriate loss and an appropriate accuracy metric for binary classification."
   ]
  },
  {
   "cell_type": "code",
   "execution_count": 7,
   "id": "6e23d609",
   "metadata": {
    "execution": {
     "iopub.execute_input": "2024-07-01T14:39:44.278494Z",
     "iopub.status.busy": "2024-07-01T14:39:44.277857Z",
     "iopub.status.idle": "2024-07-01T14:39:44.308805Z",
     "shell.execute_reply": "2024-07-01T14:39:44.307977Z"
    },
    "lines_to_next_cell": 0,
    "papermill": {
     "duration": 0.04059,
     "end_time": "2024-07-01T14:39:44.310744",
     "exception": false,
     "start_time": "2024-07-01T14:39:44.270154",
     "status": "completed"
    },
    "tags": []
   },
   "outputs": [
    {
     "data": {
      "application/javascript": [
       "parent.postMessage({\"jupyterEvent\": \"custom.exercise_interaction\", \"data\": {\"outcomeType\": 1, \"valueTowardsCompletion\": 0.25, \"interactionType\": 1, \"questionType\": 2, \"questionId\": \"3_Q3\", \"learnToolsVersion\": \"0.3.4\", \"failureMessage\": \"\", \"exceptionClass\": \"\", \"trace\": \"\"}}, \"*\")"
      ],
      "text/plain": [
       "<IPython.core.display.Javascript object>"
      ]
     },
     "metadata": {},
     "output_type": "display_data"
    },
    {
     "data": {
      "text/markdown": [
       "<span style=\"color:#33cc33\">Correct</span>"
      ],
      "text/plain": [
       "Correct"
      ]
     },
     "metadata": {},
     "output_type": "display_data"
    }
   ],
   "source": [
    "# YOUR CODE HERE: what loss function should you use for a binary\n",
    "# classification problem? (Your answer for each should be a string.)\n",
    "\n",
    "# As per the tutorial, this is a two-class problem, \n",
    "# Therefore, use the binary versions of crossentropy and accuracy.\n",
    "# This was the same combination used in the tutorial as well.\n",
    "# The adam optimizer performs well, so we'll choose it as well.\n",
    "\n",
    "optimizer = tf.keras.optimizers.Adam(epsilon=0.01)\n",
    "model.compile(\n",
    "    optimizer='adam',\n",
    "    loss='binary_crossentropy',\n",
    "    metrics=['binary_accuracy'],\n",
    ")\n",
    "\n",
    "# Check your answer\n",
    "q_3.check()"
   ]
  },
  {
   "cell_type": "code",
   "execution_count": 8,
   "id": "1ebdc2d3",
   "metadata": {
    "execution": {
     "iopub.execute_input": "2024-07-01T14:39:44.326743Z",
     "iopub.status.busy": "2024-07-01T14:39:44.326471Z",
     "iopub.status.idle": "2024-07-01T14:39:44.330125Z",
     "shell.execute_reply": "2024-07-01T14:39:44.329335Z"
    },
    "lines_to_next_cell": 0,
    "papermill": {
     "duration": 0.013863,
     "end_time": "2024-07-01T14:39:44.331999",
     "exception": false,
     "start_time": "2024-07-01T14:39:44.318136",
     "status": "completed"
    },
    "tags": []
   },
   "outputs": [],
   "source": [
    "# Lines below will give you a hint or solution code\n",
    "#q_3.hint()\n",
    "#q_3.solution()"
   ]
  },
  {
   "cell_type": "code",
   "execution_count": 9,
   "id": "b95bc74b",
   "metadata": {
    "execution": {
     "iopub.execute_input": "2024-07-01T14:39:44.347037Z",
     "iopub.status.busy": "2024-07-01T14:39:44.346740Z",
     "iopub.status.idle": "2024-07-01T14:41:46.948130Z",
     "shell.execute_reply": "2024-07-01T14:41:46.947015Z"
    },
    "papermill": {
     "duration": 122.611179,
     "end_time": "2024-07-01T14:41:46.950196",
     "exception": false,
     "start_time": "2024-07-01T14:39:44.339017",
     "status": "completed"
    },
    "tags": []
   },
   "outputs": [
    {
     "name": "stdout",
     "output_type": "stream",
     "text": [
      "Epoch 1/30\n"
     ]
    },
    {
     "name": "stderr",
     "output_type": "stream",
     "text": [
      "WARNING: All log messages before absl::InitializeLog() is called are written to STDERR\n",
      "I0000 00:00:1719844791.955340      72 device_compiler.h:186] Compiled cluster using XLA!  This line is logged at most once for the lifetime of the process.\n"
     ]
    },
    {
     "name": "stdout",
     "output_type": "stream",
     "text": [
      "80/80 [==============================] - 19s 140ms/step - loss: 0.5638 - binary_accuracy: 0.7317 - val_loss: 0.5208 - val_binary_accuracy: 0.7602\n",
      "Epoch 2/30\n",
      "80/80 [==============================] - 3s 41ms/step - loss: 0.4999 - binary_accuracy: 0.8056 - val_loss: 0.4911 - val_binary_accuracy: 0.7996\n",
      "Epoch 3/30\n",
      "80/80 [==============================] - 3s 41ms/step - loss: 0.4752 - binary_accuracy: 0.8218 - val_loss: 0.4733 - val_binary_accuracy: 0.8167\n",
      "Epoch 4/30\n",
      "80/80 [==============================] - 3s 42ms/step - loss: 0.4533 - binary_accuracy: 0.8378 - val_loss: 0.4599 - val_binary_accuracy: 0.8234\n",
      "Epoch 5/30\n",
      "80/80 [==============================] - 3s 43ms/step - loss: 0.4366 - binary_accuracy: 0.8470 - val_loss: 0.4487 - val_binary_accuracy: 0.8371\n",
      "Epoch 6/30\n",
      "80/80 [==============================] - 3s 42ms/step - loss: 0.4197 - binary_accuracy: 0.8564 - val_loss: 0.4357 - val_binary_accuracy: 0.8418\n",
      "Epoch 7/30\n",
      "80/80 [==============================] - 3s 43ms/step - loss: 0.4050 - binary_accuracy: 0.8646 - val_loss: 0.4308 - val_binary_accuracy: 0.8454\n",
      "Epoch 8/30\n",
      "80/80 [==============================] - 3s 42ms/step - loss: 0.3917 - binary_accuracy: 0.8718 - val_loss: 0.4239 - val_binary_accuracy: 0.8454\n",
      "Epoch 9/30\n",
      "80/80 [==============================] - 3s 43ms/step - loss: 0.3786 - binary_accuracy: 0.8782 - val_loss: 0.4140 - val_binary_accuracy: 0.8493\n",
      "Epoch 10/30\n",
      "80/80 [==============================] - 3s 43ms/step - loss: 0.3653 - binary_accuracy: 0.8829 - val_loss: 0.4134 - val_binary_accuracy: 0.8481\n",
      "Epoch 11/30\n",
      "80/80 [==============================] - 3s 43ms/step - loss: 0.3557 - binary_accuracy: 0.8849 - val_loss: 0.4093 - val_binary_accuracy: 0.8474\n",
      "Epoch 12/30\n",
      "80/80 [==============================] - 3s 42ms/step - loss: 0.3459 - binary_accuracy: 0.8892 - val_loss: 0.4080 - val_binary_accuracy: 0.8501\n",
      "Epoch 13/30\n",
      "80/80 [==============================] - 3s 41ms/step - loss: 0.3376 - binary_accuracy: 0.8900 - val_loss: 0.4085 - val_binary_accuracy: 0.8543\n",
      "Epoch 14/30\n",
      "80/80 [==============================] - 3s 42ms/step - loss: 0.3324 - binary_accuracy: 0.8919 - val_loss: 0.4095 - val_binary_accuracy: 0.8551\n",
      "Epoch 15/30\n",
      "80/80 [==============================] - 3s 43ms/step - loss: 0.3271 - binary_accuracy: 0.8925 - val_loss: 0.4161 - val_binary_accuracy: 0.8513\n",
      "Epoch 16/30\n",
      "80/80 [==============================] - 3s 42ms/step - loss: 0.3179 - binary_accuracy: 0.8972 - val_loss: 0.4172 - val_binary_accuracy: 0.8529\n",
      "Epoch 17/30\n",
      "80/80 [==============================] - 3s 41ms/step - loss: 0.3093 - binary_accuracy: 0.8999 - val_loss: 0.4073 - val_binary_accuracy: 0.8549\n",
      "Epoch 18/30\n",
      "80/80 [==============================] - 3s 41ms/step - loss: 0.3026 - binary_accuracy: 0.9015 - val_loss: 0.4006 - val_binary_accuracy: 0.8541\n",
      "Epoch 19/30\n",
      "80/80 [==============================] - 3s 41ms/step - loss: 0.2940 - binary_accuracy: 0.9046 - val_loss: 0.3927 - val_binary_accuracy: 0.8577\n",
      "Epoch 20/30\n",
      "80/80 [==============================] - 3s 41ms/step - loss: 0.2863 - binary_accuracy: 0.9072 - val_loss: 0.3879 - val_binary_accuracy: 0.8590\n",
      "Epoch 21/30\n",
      "80/80 [==============================] - 3s 42ms/step - loss: 0.2808 - binary_accuracy: 0.9091 - val_loss: 0.3866 - val_binary_accuracy: 0.8588\n",
      "Epoch 22/30\n",
      "80/80 [==============================] - 3s 42ms/step - loss: 0.2750 - binary_accuracy: 0.9107 - val_loss: 0.3825 - val_binary_accuracy: 0.8596\n",
      "Epoch 23/30\n",
      "80/80 [==============================] - 3s 42ms/step - loss: 0.2703 - binary_accuracy: 0.9115 - val_loss: 0.3821 - val_binary_accuracy: 0.8596\n",
      "Epoch 24/30\n",
      "80/80 [==============================] - 3s 43ms/step - loss: 0.2634 - binary_accuracy: 0.9148 - val_loss: 0.3849 - val_binary_accuracy: 0.8575\n",
      "Epoch 25/30\n",
      "80/80 [==============================] - 3s 42ms/step - loss: 0.2590 - binary_accuracy: 0.9156 - val_loss: 0.3769 - val_binary_accuracy: 0.8600\n",
      "Epoch 26/30\n",
      "80/80 [==============================] - 3s 42ms/step - loss: 0.2542 - binary_accuracy: 0.9185 - val_loss: 0.3812 - val_binary_accuracy: 0.8610\n",
      "Epoch 27/30\n",
      "80/80 [==============================] - 3s 42ms/step - loss: 0.2480 - binary_accuracy: 0.9209 - val_loss: 0.3813 - val_binary_accuracy: 0.8616\n",
      "Epoch 28/30\n",
      "80/80 [==============================] - 3s 42ms/step - loss: 0.2439 - binary_accuracy: 0.9230 - val_loss: 0.3846 - val_binary_accuracy: 0.8578\n",
      "Epoch 29/30\n",
      "80/80 [==============================] - 3s 42ms/step - loss: 0.2406 - binary_accuracy: 0.9244 - val_loss: 0.3885 - val_binary_accuracy: 0.8582\n",
      "Epoch 30/30\n",
      "80/80 [==============================] - 3s 41ms/step - loss: 0.2370 - binary_accuracy: 0.9252 - val_loss: 0.3919 - val_binary_accuracy: 0.8580\n"
     ]
    }
   ],
   "source": [
    "history = model.fit(\n",
    "    ds_train,\n",
    "    validation_data=ds_valid,\n",
    "    epochs=30,\n",
    ")"
   ]
  },
  {
   "cell_type": "markdown",
   "id": "6b95c0df",
   "metadata": {
    "papermill": {
     "duration": 0.076021,
     "end_time": "2024-07-01T14:41:47.103049",
     "exception": false,
     "start_time": "2024-07-01T14:41:47.027028",
     "status": "completed"
    },
    "tags": []
   },
   "source": [
    "Run the cell below to plot the loss and metric curves for this training run."
   ]
  },
  {
   "cell_type": "code",
   "execution_count": 10,
   "id": "a7301a38",
   "metadata": {
    "execution": {
     "iopub.execute_input": "2024-07-01T14:41:47.299658Z",
     "iopub.status.busy": "2024-07-01T14:41:47.298774Z",
     "iopub.status.idle": "2024-07-01T14:41:47.975323Z",
     "shell.execute_reply": "2024-07-01T14:41:47.974396Z"
    },
    "papermill": {
     "duration": 0.798293,
     "end_time": "2024-07-01T14:41:47.977252",
     "exception": false,
     "start_time": "2024-07-01T14:41:47.178959",
     "status": "completed"
    },
    "tags": []
   },
   "outputs": [
    {
     "data": {
      "image/png": "[encoded data removed]",
      "text/plain": [
       "<Figure size 640x480 with 1 Axes>"
      ]
     },
     "metadata": {},
     "output_type": "display_data"
    },
    {
     "data": {
      "image/png": "[encoded data removed]",
      "text/plain": [
       "<Figure size 640x480 with 1 Axes>"
      ]
     },
     "metadata": {},
     "output_type": "display_data"
    }
   ],
   "source": [
    "import pandas as pd\n",
    "history_frame = pd.DataFrame(history.history)\n",
    "history_frame.loc[:, ['loss', 'val_loss']].plot()\n",
    "history_frame.loc[:, ['binary_accuracy', 'val_binary_accuracy']].plot();"
   ]
  },
  {
   "cell_type": "markdown",
   "id": "bb3b2983",
   "metadata": {
    "papermill": {
     "duration": 0.078021,
     "end_time": "2024-07-01T14:41:48.133371",
     "exception": false,
     "start_time": "2024-07-01T14:41:48.055350",
     "status": "completed"
    },
    "tags": []
   },
   "source": [
    "# 4) Examine Loss and Accuracy #\n",
    "\n",
    "Do you notice a difference between these learning curves and the curves for VGG16 from the tutorial? What does this difference tell you about what this model (InceptionV2) learned compared to VGG16? Are there ways in which one is better than the other? Worse?\n",
    "\n",
    "After you've thought about it, run the cell below to see the answer."
   ]
  },
  {
   "cell_type": "code",
   "execution_count": 11,
   "id": "5829d0dc",
   "metadata": {
    "execution": {
     "iopub.execute_input": "2024-07-01T14:41:48.291134Z",
     "iopub.status.busy": "2024-07-01T14:41:48.290491Z",
     "iopub.status.idle": "2024-07-01T14:41:48.298328Z",
     "shell.execute_reply": "2024-07-01T14:41:48.297469Z"
    },
    "papermill": {
     "duration": 0.089345,
     "end_time": "2024-07-01T14:41:48.300266",
     "exception": false,
     "start_time": "2024-07-01T14:41:48.210921",
     "status": "completed"
    },
    "tags": []
   },
   "outputs": [
    {
     "data": {
      "application/javascript": [
       "parent.postMessage({\"jupyterEvent\": \"custom.exercise_interaction\", \"data\": {\"outcomeType\": 1, \"valueTowardsCompletion\": 0.25, \"interactionType\": 1, \"questionType\": 4, \"questionId\": \"4_Q4\", \"learnToolsVersion\": \"0.3.4\", \"failureMessage\": \"\", \"exceptionClass\": \"\", \"trace\": \"\"}}, \"*\")"
      ],
      "text/plain": [
       "<IPython.core.display.Javascript object>"
      ]
     },
     "metadata": {},
     "output_type": "display_data"
    },
    {
     "data": {
      "text/markdown": [
       "<span style=\"color:#33cc33\">Correct:</span> \n",
       "\n",
       "That the training loss and validation loss stay fairly close is evidence that the model isn't just memorizing the training data, but rather learning general properties of the two classes. But, because this model converges at a loss greater than the VGG16 model, it's likely that it is underfitting some, and could benefit from some extra capacity.\n"
      ],
      "text/plain": [
       "Correct: \n",
       "\n",
       "That the training loss and validation loss stay fairly close is evidence that the model isn't just memorizing the training data, but rather learning general properties of the two classes. But, because this model converges at a loss greater than the VGG16 model, it's likely that it is underfitting some, and could benefit from some extra capacity."
      ]
     },
     "metadata": {},
     "output_type": "display_data"
    }
   ],
   "source": [
    "# View the solution (Run this code cell to receive credit!)\n",
    "q_4.check()"
   ]
  },
  {
   "cell_type": "markdown",
   "id": "f2b2e866",
   "metadata": {
    "papermill": {
     "duration": 0.07715,
     "end_time": "2024-07-01T14:41:48.455316",
     "exception": false,
     "start_time": "2024-07-01T14:41:48.378166",
     "status": "completed"
    },
    "tags": []
   },
   "source": [
    "# Conclusion #\n",
    "\n",
    "In this first lesson, you learned the basics of **convolutional image classifiers**, that they consist of a **base** for extracting features from images, and a **head** which uses the features to decide the image's class. You also saw how to build a classifier with **transfer learning** on pretrained base. "
   ]
  },
  {
   "cell_type": "markdown",
   "id": "4054b7f8",
   "metadata": {
    "papermill": {
     "duration": 0.077512,
     "end_time": "2024-07-01T14:41:48.610746",
     "exception": false,
     "start_time": "2024-07-01T14:41:48.533234",
     "status": "completed"
    },
    "tags": []
   },
   "source": [
    "# Keep Going #\n",
    "\n",
    "Move on to [**Lesson 2**](https://www.kaggle.com/ryanholbrook/convolution-and-relu) for a detailed look at how the base does this feature extraction. (It's really cool!)"
   ]
  },
  {
   "cell_type": "markdown",
   "id": "a2639fb1",
   "metadata": {
    "papermill": {
     "duration": 0.077291,
     "end_time": "2024-07-01T14:41:48.766333",
     "exception": false,
     "start_time": "2024-07-01T14:41:48.689042",
     "status": "completed"
    },
    "tags": []
   },
   "source": [
    "---\n",
    "\n",
    "\n",
    "\n",
    "\n",
    "*Have questions or comments? Visit the [course discussion forum](https://www.kaggle.com/learn/computer-vision/discussion) to chat with other learners.*"
   ]
  }
 ],
 "metadata": {
  "jupytext": {
   "formats": "ipynb,md",
   "split_at_heading": true
  },
  "kaggle": {
   "accelerator": "gpu",
   "dataSources": [
    {
     "datasetId": 708136,
     "sourceId": 1338830,
     "sourceType": "datasetVersion"
    },
    {
     "datasetId": 701538,
     "sourceId": 1363948,
     "sourceType": "datasetVersion"
    },
    {
     "datasetId": 878523,
     "sourceId": 1495782,
     "sourceType": "datasetVersion"
    }
   ],
   "dockerImageVersionId": 30648,
   "isGpuEnabled": true,
   "isInternetEnabled": false,
   "language": "python",
   "sourceType": "notebook"
  },
  "kernelspec": {
   "display_name": "Python 3",
   "language": "python",
   "name": "python3"
  },
  "language_info": {
   "codemirror_mode": {
    "name": "ipython",
    "version": 3
   },
   "file_extension": ".py",
   "mimetype": "text/x-python",
   "name": "python",
   "nbconvert_exporter": "python",
   "pygments_lexer": "ipython3",
   "version": "3.10.13"
  },
  "papermill": {
   "default_parameters": {},
   "duration": 155.27715,
   "end_time": "2024-07-01T14:41:51.794831",
   "environment_variables": {},
   "exception": null,
   "input_path": "__notebook__.ipynb",
   "output_path": "__notebook__.ipynb",
   "parameters": {},
   "start_time": "2024-07-01T14:39:16.517681",
   "version": "2.5.0"
  }
 },
 "nbformat": 4,
 "nbformat_minor": 5
}
