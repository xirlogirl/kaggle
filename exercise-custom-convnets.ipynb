{
 "cells": [
  {
   "cell_type": "markdown",
   "id": "30619b49",
   "metadata": {
    "papermill": {
     "duration": 0.005168,
     "end_time": "2024-07-06T21:11:58.304702",
     "exception": false,
     "start_time": "2024-07-06T21:11:58.299534",
     "status": "completed"
    },
    "tags": []
   },
   "source": [
    "**This notebook is an exercise in the [Computer Vision](https://www.kaggle.com/learn/computer-vision) course.  You can reference the tutorial at [this link](https://www.kaggle.com/ryanholbrook/custom-convnets).**\n",
    "\n",
    "---\n"
   ]
  },
  {
   "cell_type": "markdown",
   "id": "97105aa2",
   "metadata": {
    "papermill": {
     "duration": 0.004561,
     "end_time": "2024-07-06T21:11:58.314150",
     "exception": false,
     "start_time": "2024-07-06T21:11:58.309589",
     "status": "completed"
    },
    "tags": []
   },
   "source": [
    "# Introduction #\n",
    "\n",
    "In these exercises, you'll build a custom convnet with performance competitive to the VGG16 model from Lesson 1.\n",
    "\n",
    "Get started by running the code cell below."
   ]
  },
  {
   "cell_type": "code",
   "execution_count": 1,
   "id": "2910a651",
   "metadata": {
    "execution": {
     "iopub.execute_input": "2024-07-06T21:11:58.324730Z",
     "iopub.status.busy": "2024-07-06T21:11:58.324395Z",
     "iopub.status.idle": "2024-07-06T21:12:21.787843Z",
     "shell.execute_reply": "2024-07-06T21:12:21.787064Z"
    },
    "papermill": {
     "duration": 23.471302,
     "end_time": "2024-07-06T21:12:21.790117",
     "exception": false,
     "start_time": "2024-07-06T21:11:58.318815",
     "status": "completed"
    },
    "tags": []
   },
   "outputs": [
    {
     "name": "stderr",
     "output_type": "stream",
     "text": [
      "2024-07-06 21:12:00.784369: E external/local_xla/xla/stream_executor/cuda/cuda_dnn.cc:9261] Unable to register cuDNN factory: Attempting to register factory for plugin cuDNN when one has already been registered\n",
      "2024-07-06 21:12:00.784465: E external/local_xla/xla/stream_executor/cuda/cuda_fft.cc:607] Unable to register cuFFT factory: Attempting to register factory for plugin cuFFT when one has already been registered\n",
      "2024-07-06 21:12:00.911041: E external/local_xla/xla/stream_executor/cuda/cuda_blas.cc:1515] Unable to register cuBLAS factory: Attempting to register factory for plugin cuBLAS when one has already been registered\n"
     ]
    },
    {
     "name": "stdout",
     "output_type": "stream",
     "text": [
      "Found 5117 files belonging to 2 classes.\n",
      "Found 5051 files belonging to 2 classes.\n"
     ]
    }
   ],
   "source": [
    "# Setup feedback system\n",
    "from learntools.core import binder\n",
    "binder.bind(globals())\n",
    "from learntools.computer_vision.ex5 import *\n",
    "\n",
    "# Imports\n",
    "import os, warnings\n",
    "import matplotlib.pyplot as plt\n",
    "from matplotlib import gridspec\n",
    "\n",
    "import numpy as np\n",
    "import tensorflow as tf\n",
    "from tensorflow.keras.preprocessing import image_dataset_from_directory\n",
    "\n",
    "# Reproducability\n",
    "def set_seed(seed=31415):\n",
    "    np.random.seed(seed)\n",
    "    tf.random.set_seed(seed)\n",
    "    os.environ['PYTHONHASHSEED'] = str(seed)\n",
    "    os.environ['TF_DETERMINISTIC_OPS'] = '1'\n",
    "set_seed()\n",
    "\n",
    "# Set Matplotlib defaults\n",
    "plt.rc('figure', autolayout=True)\n",
    "plt.rc('axes', labelweight='bold', labelsize='large',\n",
    "       titleweight='bold', titlesize=18, titlepad=10)\n",
    "plt.rc('image', cmap='magma')\n",
    "warnings.filterwarnings(\"ignore\") # to clean up output cells\n",
    "\n",
    "\n",
    "# Load training and validation sets\n",
    "ds_train_ = image_dataset_from_directory(\n",
    "    '../input/car-or-truck/train',\n",
    "    labels='inferred',\n",
    "    label_mode='binary',\n",
    "    image_size=[128, 128],\n",
    "    interpolation='nearest',\n",
    "    batch_size=64,\n",
    "    shuffle=True,\n",
    ")\n",
    "ds_valid_ = image_dataset_from_directory(\n",
    "    '../input/car-or-truck/valid',\n",
    "    labels='inferred',\n",
    "    label_mode='binary',\n",
    "    image_size=[128, 128],\n",
    "    interpolation='nearest',\n",
    "    batch_size=64,\n",
    "    shuffle=False,\n",
    ")\n",
    "\n",
    "# Data Pipeline\n",
    "def convert_to_float(image, label):\n",
    "    image = tf.image.convert_image_dtype(image, dtype=tf.float32)\n",
    "    return image, label\n",
    "\n",
    "AUTOTUNE = tf.data.experimental.AUTOTUNE\n",
    "ds_train = (\n",
    "    ds_train_\n",
    "    .map(convert_to_float)\n",
    "    .cache()\n",
    "    .prefetch(buffer_size=AUTOTUNE)\n",
    ")\n",
    "ds_valid = (\n",
    "    ds_valid_\n",
    "    .map(convert_to_float)\n",
    "    .cache()\n",
    "    .prefetch(buffer_size=AUTOTUNE)\n",
    ")\n"
   ]
  },
  {
   "cell_type": "markdown",
   "id": "004e1b47",
   "metadata": {
    "papermill": {
     "duration": 0.00577,
     "end_time": "2024-07-06T21:12:21.801174",
     "exception": false,
     "start_time": "2024-07-06T21:12:21.795404",
     "status": "completed"
    },
    "tags": []
   },
   "source": [
    "# Design a Convnet #\n",
    "\n",
    "Let's design a convolutional network with a block architecture like we saw in the tutorial. The model from the example had three blocks, each with a single convolutional layer. Its performance on the \"Car or Truck\" problem was okay, but far from what the pretrained VGG16 could achieve. It might be that our simple network lacks the ability to extract sufficiently complex features. We could try improving the model either by adding more blocks or by adding convolutions to the blocks we have.\n",
    "\n",
    "Let's go with the second approach. We'll keep the three block structure, but increase the number of `Conv2D` layer in the second block to two, and in the third block to three.\n",
    "\n",
    "<figure>\n",
    "<!-- <img src=\"./images/2-convmodel-2.png\" width=\"250\" alt=\"Diagram of a convolutional model.\"> -->\n",
    "<img src=\"https://storage.googleapis.com/kaggle-media/learn/images/Vko6nCK.png\" width=\"250\" alt=\"Diagram of a convolutional model.\">\n",
    "</figure>\n",
    "\n",
    "# 1) Define Model #\n",
    "\n",
    "Given the diagram above, complete the model by defining the layers of the third block."
   ]
  },
  {
   "cell_type": "code",
   "execution_count": 2,
   "id": "5ef3f827",
   "metadata": {
    "execution": {
     "iopub.execute_input": "2024-07-06T21:12:21.812592Z",
     "iopub.status.busy": "2024-07-06T21:12:21.812267Z",
     "iopub.status.idle": "2024-07-06T21:12:21.962871Z",
     "shell.execute_reply": "2024-07-06T21:12:21.961905Z"
    },
    "lines_to_next_cell": 0,
    "papermill": {
     "duration": 0.158575,
     "end_time": "2024-07-06T21:12:21.964901",
     "exception": false,
     "start_time": "2024-07-06T21:12:21.806326",
     "status": "completed"
    },
    "tags": []
   },
   "outputs": [
    {
     "data": {
      "application/javascript": [
       "parent.postMessage({\"jupyterEvent\": \"custom.exercise_interaction\", \"data\": {\"outcomeType\": 1, \"valueTowardsCompletion\": 0.3333333333333333, \"interactionType\": 1, \"questionType\": 2, \"questionId\": \"1_Q1\", \"learnToolsVersion\": \"0.3.4\", \"failureMessage\": \"\", \"exceptionClass\": \"\", \"trace\": \"\"}}, \"*\")"
      ],
      "text/plain": [
       "<IPython.core.display.Javascript object>"
      ]
     },
     "metadata": {},
     "output_type": "display_data"
    },
    {
     "data": {
      "text/markdown": [
       "<span style=\"color:#33cc33\">Correct</span>"
      ],
      "text/plain": [
       "Correct"
      ]
     },
     "metadata": {},
     "output_type": "display_data"
    }
   ],
   "source": [
    "from tensorflow import keras\n",
    "from tensorflow.keras import layers\n",
    "\n",
    "model = keras.Sequential([\n",
    "    # Block One\n",
    "    layers.Conv2D(filters=32, kernel_size=3, activation='relu', padding='same',\n",
    "                  input_shape=[128, 128, 3]),\n",
    "    layers.MaxPool2D(),\n",
    "\n",
    "    # Block Two\n",
    "    layers.Conv2D(filters=64, kernel_size=3, activation='relu', padding='same'),\n",
    "    layers.MaxPool2D(),\n",
    "\n",
    "    # Block Three\n",
    "    layers.Conv2D(filters=128, kernel_size=3, activation='relu', padding='same'),\n",
    "    layers.Conv2D(filters=128, kernel_size=3, activation='relu', padding='same'),\n",
    "    layers.MaxPool2D(),\n",
    "\n",
    "    # Head\n",
    "    layers.Flatten(),\n",
    "    layers.Dense(6, activation='relu'),\n",
    "    layers.Dropout(0.2),\n",
    "    layers.Dense(1, activation='sigmoid'),\n",
    "])\n",
    "\n",
    "# Check your answer\n",
    "q_1.check()"
   ]
  },
  {
   "cell_type": "code",
   "execution_count": 3,
   "id": "a56971af",
   "metadata": {
    "execution": {
     "iopub.execute_input": "2024-07-06T21:12:21.977016Z",
     "iopub.status.busy": "2024-07-06T21:12:21.976453Z",
     "iopub.status.idle": "2024-07-06T21:12:21.980137Z",
     "shell.execute_reply": "2024-07-06T21:12:21.979329Z"
    },
    "papermill": {
     "duration": 0.011671,
     "end_time": "2024-07-06T21:12:21.981927",
     "exception": false,
     "start_time": "2024-07-06T21:12:21.970256",
     "status": "completed"
    },
    "tags": []
   },
   "outputs": [],
   "source": [
    "# Lines below will give you a hint or solution code\n",
    "#q_1.hint()\n",
    "#q_1.solution()"
   ]
  },
  {
   "cell_type": "markdown",
   "id": "b4d1ad63",
   "metadata": {
    "papermill": {
     "duration": 0.005122,
     "end_time": "2024-07-06T21:12:21.992330",
     "exception": false,
     "start_time": "2024-07-06T21:12:21.987208",
     "status": "completed"
    },
    "tags": []
   },
   "source": [
    "# 2) Compile #\n",
    "\n",
    "To prepare for training, compile the model with an appropriate loss and accuracy metric for the \"Car or Truck\" dataset."
   ]
  },
  {
   "cell_type": "code",
   "execution_count": 4,
   "id": "632f9f2a",
   "metadata": {
    "execution": {
     "iopub.execute_input": "2024-07-06T21:12:22.004185Z",
     "iopub.status.busy": "2024-07-06T21:12:22.003586Z",
     "iopub.status.idle": "2024-07-06T21:12:22.198732Z",
     "shell.execute_reply": "2024-07-06T21:12:22.197884Z"
    },
    "lines_to_next_cell": 0,
    "papermill": {
     "duration": 0.203522,
     "end_time": "2024-07-06T21:12:22.201123",
     "exception": false,
     "start_time": "2024-07-06T21:12:21.997601",
     "status": "completed"
    },
    "tags": []
   },
   "outputs": [
    {
     "data": {
      "application/javascript": [
       "parent.postMessage({\"jupyterEvent\": \"custom.exercise_interaction\", \"data\": {\"outcomeType\": 1, \"valueTowardsCompletion\": 0.3333333333333333, \"interactionType\": 1, \"questionType\": 2, \"questionId\": \"2_Q2\", \"learnToolsVersion\": \"0.3.4\", \"failureMessage\": \"\", \"exceptionClass\": \"\", \"trace\": \"\"}}, \"*\")"
      ],
      "text/plain": [
       "<IPython.core.display.Javascript object>"
      ]
     },
     "metadata": {},
     "output_type": "display_data"
    },
    {
     "data": {
      "text/markdown": [
       "<span style=\"color:#33cc33\">Correct</span>"
      ],
      "text/plain": [
       "Correct"
      ]
     },
     "metadata": {},
     "output_type": "display_data"
    }
   ],
   "source": [
    "# will use binary_crossentropy (Two class problem for Car or Truck)for loss \n",
    "# and binary_accuracy for accuracy\n",
    "\n",
    "model.compile(\n",
    "    optimizer=tf.keras.optimizers.Adam(epsilon=0.01),\n",
    "    loss='binary_crossentropy',\n",
    "    metrics=['binary_accuracy']\n",
    ")\n",
    "\n",
    "# Check your answer\n",
    "q_2.check()"
   ]
  },
  {
   "cell_type": "code",
   "execution_count": 5,
   "id": "25c1cc29",
   "metadata": {
    "execution": {
     "iopub.execute_input": "2024-07-06T21:12:22.214024Z",
     "iopub.status.busy": "2024-07-06T21:12:22.213511Z",
     "iopub.status.idle": "2024-07-06T21:12:22.226367Z",
     "shell.execute_reply": "2024-07-06T21:12:22.225593Z"
    },
    "lines_to_next_cell": 0,
    "papermill": {
     "duration": 0.021251,
     "end_time": "2024-07-06T21:12:22.228170",
     "exception": false,
     "start_time": "2024-07-06T21:12:22.206919",
     "status": "completed"
    },
    "tags": []
   },
   "outputs": [
    {
     "data": {
      "application/javascript": [
       "parent.postMessage({\"jupyterEvent\": \"custom.exercise_interaction\", \"data\": {\"outcomeType\": 1, \"valueTowardsCompletion\": 0.3333333333333333, \"interactionType\": 1, \"questionType\": 2, \"questionId\": \"2_Q2\", \"learnToolsVersion\": \"0.3.4\", \"failureMessage\": \"\", \"exceptionClass\": \"\", \"trace\": \"\"}}, \"*\")"
      ],
      "text/plain": [
       "<IPython.core.display.Javascript object>"
      ]
     },
     "metadata": {},
     "output_type": "display_data"
    },
    {
     "data": {
      "text/markdown": [
       "<span style=\"color:#33cc33\">Correct</span>"
      ],
      "text/plain": [
       "Correct"
      ]
     },
     "metadata": {},
     "output_type": "display_data"
    }
   ],
   "source": [
    "model.compile(\n",
    "    optimizer=tf.keras.optimizers.Adam(epsilon=0.01),\n",
    "    loss='binary_crossentropy',\n",
    "    metrics=['binary_accuracy'],\n",
    ")\n",
    "q_2.assert_check_passed()"
   ]
  },
  {
   "cell_type": "code",
   "execution_count": 6,
   "id": "175da356",
   "metadata": {
    "execution": {
     "iopub.execute_input": "2024-07-06T21:12:22.240964Z",
     "iopub.status.busy": "2024-07-06T21:12:22.240708Z",
     "iopub.status.idle": "2024-07-06T21:12:22.244052Z",
     "shell.execute_reply": "2024-07-06T21:12:22.243237Z"
    },
    "lines_to_next_cell": 0,
    "papermill": {
     "duration": 0.011837,
     "end_time": "2024-07-06T21:12:22.245917",
     "exception": false,
     "start_time": "2024-07-06T21:12:22.234080",
     "status": "completed"
    },
    "tags": []
   },
   "outputs": [],
   "source": [
    "# Lines below will give you a hint or solution code\n",
    "#q_2.hint()\n",
    "#q_2.solution()"
   ]
  },
  {
   "cell_type": "markdown",
   "id": "f9f1ea90",
   "metadata": {
    "papermill": {
     "duration": 0.005793,
     "end_time": "2024-07-06T21:12:22.257682",
     "exception": false,
     "start_time": "2024-07-06T21:12:22.251889",
     "status": "completed"
    },
    "tags": []
   },
   "source": [
    "Finally, let's test the performance of this new model. First run this cell to fit the model to the training set."
   ]
  },
  {
   "cell_type": "code",
   "execution_count": 7,
   "id": "1fb283f5",
   "metadata": {
    "execution": {
     "iopub.execute_input": "2024-07-06T21:12:22.271916Z",
     "iopub.status.busy": "2024-07-06T21:12:22.271288Z",
     "iopub.status.idle": "2024-07-06T21:15:14.782384Z",
     "shell.execute_reply": "2024-07-06T21:15:14.781388Z"
    },
    "papermill": {
     "duration": 172.520798,
     "end_time": "2024-07-06T21:15:14.784515",
     "exception": false,
     "start_time": "2024-07-06T21:12:22.263717",
     "status": "completed"
    },
    "tags": []
   },
   "outputs": [
    {
     "name": "stdout",
     "output_type": "stream",
     "text": [
      "Epoch 1/50\n"
     ]
    },
    {
     "name": "stderr",
     "output_type": "stream",
     "text": [
      "WARNING: All log messages before absl::InitializeLog() is called are written to STDERR\n",
      "I0000 00:00:1720300346.529579      75 device_compiler.h:186] Compiled cluster using XLA!  This line is logged at most once for the lifetime of the process.\n"
     ]
    },
    {
     "name": "stdout",
     "output_type": "stream",
     "text": [
      "80/80 [==============================] - 17s 150ms/step - loss: 0.6725 - binary_accuracy: 0.5785 - val_loss: 0.6613 - val_binary_accuracy: 0.5868\n",
      "Epoch 2/50\n",
      "80/80 [==============================] - 3s 40ms/step - loss: 0.6604 - binary_accuracy: 0.6031 - val_loss: 0.6514 - val_binary_accuracy: 0.6021\n",
      "Epoch 3/50\n",
      "80/80 [==============================] - 3s 40ms/step - loss: 0.6542 - binary_accuracy: 0.6082 - val_loss: 0.6497 - val_binary_accuracy: 0.5882\n",
      "Epoch 4/50\n",
      "80/80 [==============================] - 3s 40ms/step - loss: 0.6490 - binary_accuracy: 0.6109 - val_loss: 0.6407 - val_binary_accuracy: 0.6209\n",
      "Epoch 5/50\n",
      "80/80 [==============================] - 3s 40ms/step - loss: 0.6358 - binary_accuracy: 0.6355 - val_loss: 0.6235 - val_binary_accuracy: 0.6527\n",
      "Epoch 6/50\n",
      "80/80 [==============================] - 3s 40ms/step - loss: 0.6245 - binary_accuracy: 0.6478 - val_loss: 0.6187 - val_binary_accuracy: 0.6543\n",
      "Epoch 7/50\n",
      "80/80 [==============================] - 3s 39ms/step - loss: 0.6276 - binary_accuracy: 0.6478 - val_loss: 0.6095 - val_binary_accuracy: 0.6601\n",
      "Epoch 8/50\n",
      "80/80 [==============================] - 3s 39ms/step - loss: 0.6071 - binary_accuracy: 0.6686 - val_loss: 0.5906 - val_binary_accuracy: 0.6824\n",
      "Epoch 9/50\n",
      "80/80 [==============================] - 3s 40ms/step - loss: 0.5868 - binary_accuracy: 0.6895 - val_loss: 0.5801 - val_binary_accuracy: 0.7032\n",
      "Epoch 10/50\n",
      "80/80 [==============================] - 3s 39ms/step - loss: 0.5653 - binary_accuracy: 0.7158 - val_loss: 0.5518 - val_binary_accuracy: 0.7155\n",
      "Epoch 11/50\n",
      "80/80 [==============================] - 3s 39ms/step - loss: 0.5371 - binary_accuracy: 0.7387 - val_loss: 0.5335 - val_binary_accuracy: 0.7315\n",
      "Epoch 12/50\n",
      "80/80 [==============================] - 3s 40ms/step - loss: 0.5069 - binary_accuracy: 0.7592 - val_loss: 0.5150 - val_binary_accuracy: 0.7531\n",
      "Epoch 13/50\n",
      "80/80 [==============================] - 3s 40ms/step - loss: 0.4692 - binary_accuracy: 0.7848 - val_loss: 0.4984 - val_binary_accuracy: 0.7654\n",
      "Epoch 14/50\n",
      "80/80 [==============================] - 3s 39ms/step - loss: 0.4482 - binary_accuracy: 0.8003 - val_loss: 0.4943 - val_binary_accuracy: 0.7697\n",
      "Epoch 15/50\n",
      "80/80 [==============================] - 3s 40ms/step - loss: 0.4172 - binary_accuracy: 0.8147 - val_loss: 0.4786 - val_binary_accuracy: 0.7674\n",
      "Epoch 16/50\n",
      "80/80 [==============================] - 3s 40ms/step - loss: 0.3836 - binary_accuracy: 0.8378 - val_loss: 0.4487 - val_binary_accuracy: 0.7919\n",
      "Epoch 17/50\n",
      "80/80 [==============================] - 3s 39ms/step - loss: 0.3451 - binary_accuracy: 0.8548 - val_loss: 0.4249 - val_binary_accuracy: 0.8129\n",
      "Epoch 18/50\n",
      "80/80 [==============================] - 3s 40ms/step - loss: 0.3169 - binary_accuracy: 0.8667 - val_loss: 0.4176 - val_binary_accuracy: 0.8181\n",
      "Epoch 19/50\n",
      "80/80 [==============================] - 3s 40ms/step - loss: 0.2902 - binary_accuracy: 0.8786 - val_loss: 0.4340 - val_binary_accuracy: 0.8200\n",
      "Epoch 20/50\n",
      "80/80 [==============================] - 3s 40ms/step - loss: 0.2634 - binary_accuracy: 0.8878 - val_loss: 0.4918 - val_binary_accuracy: 0.7850\n",
      "Epoch 21/50\n",
      "80/80 [==============================] - 3s 39ms/step - loss: 0.2577 - binary_accuracy: 0.8911 - val_loss: 0.7050 - val_binary_accuracy: 0.7096\n",
      "Epoch 22/50\n",
      "80/80 [==============================] - 3s 39ms/step - loss: 0.2645 - binary_accuracy: 0.8863 - val_loss: 0.4399 - val_binary_accuracy: 0.8222\n",
      "Epoch 23/50\n",
      "80/80 [==============================] - 3s 39ms/step - loss: 0.2374 - binary_accuracy: 0.9003 - val_loss: 0.4614 - val_binary_accuracy: 0.8252\n",
      "Epoch 24/50\n",
      "80/80 [==============================] - 3s 40ms/step - loss: 0.1880 - binary_accuracy: 0.9212 - val_loss: 0.5025 - val_binary_accuracy: 0.8212\n",
      "Epoch 25/50\n",
      "80/80 [==============================] - 3s 40ms/step - loss: 0.1886 - binary_accuracy: 0.9218 - val_loss: 0.5029 - val_binary_accuracy: 0.8198\n",
      "Epoch 26/50\n",
      "80/80 [==============================] - 3s 39ms/step - loss: 0.1796 - binary_accuracy: 0.9267 - val_loss: 0.4571 - val_binary_accuracy: 0.8351\n",
      "Epoch 27/50\n",
      "80/80 [==============================] - 3s 39ms/step - loss: 0.1766 - binary_accuracy: 0.9265 - val_loss: 0.5423 - val_binary_accuracy: 0.8212\n",
      "Epoch 28/50\n",
      "80/80 [==============================] - 3s 40ms/step - loss: 0.1894 - binary_accuracy: 0.9209 - val_loss: 0.5207 - val_binary_accuracy: 0.8088\n",
      "Epoch 29/50\n",
      "80/80 [==============================] - 3s 40ms/step - loss: 0.1592 - binary_accuracy: 0.9279 - val_loss: 0.6743 - val_binary_accuracy: 0.8208\n",
      "Epoch 30/50\n",
      "80/80 [==============================] - 3s 40ms/step - loss: 0.1162 - binary_accuracy: 0.9543 - val_loss: 0.5862 - val_binary_accuracy: 0.8388\n",
      "Epoch 31/50\n",
      "80/80 [==============================] - 3s 39ms/step - loss: 0.0980 - binary_accuracy: 0.9605 - val_loss: 0.5332 - val_binary_accuracy: 0.8454\n",
      "Epoch 32/50\n",
      "80/80 [==============================] - 3s 40ms/step - loss: 0.1034 - binary_accuracy: 0.9576 - val_loss: 0.5757 - val_binary_accuracy: 0.8426\n",
      "Epoch 33/50\n",
      "80/80 [==============================] - 3s 40ms/step - loss: 0.0982 - binary_accuracy: 0.9642 - val_loss: 0.6103 - val_binary_accuracy: 0.8371\n",
      "Epoch 34/50\n",
      "80/80 [==============================] - 3s 40ms/step - loss: 0.1144 - binary_accuracy: 0.9554 - val_loss: 0.5206 - val_binary_accuracy: 0.8365\n",
      "Epoch 35/50\n",
      "80/80 [==============================] - 3s 40ms/step - loss: 0.0942 - binary_accuracy: 0.9633 - val_loss: 0.5668 - val_binary_accuracy: 0.8493\n",
      "Epoch 36/50\n",
      "80/80 [==============================] - 3s 40ms/step - loss: 0.0878 - binary_accuracy: 0.9670 - val_loss: 0.5890 - val_binary_accuracy: 0.8388\n",
      "Epoch 37/50\n",
      "80/80 [==============================] - 3s 40ms/step - loss: 0.0745 - binary_accuracy: 0.9695 - val_loss: 0.6956 - val_binary_accuracy: 0.8179\n",
      "Epoch 38/50\n",
      "80/80 [==============================] - 3s 39ms/step - loss: 0.0780 - binary_accuracy: 0.9691 - val_loss: 0.7117 - val_binary_accuracy: 0.8179\n",
      "Epoch 39/50\n",
      "80/80 [==============================] - 3s 40ms/step - loss: 0.0690 - binary_accuracy: 0.9762 - val_loss: 0.6236 - val_binary_accuracy: 0.8016\n",
      "Epoch 40/50\n",
      "80/80 [==============================] - 3s 40ms/step - loss: 0.0672 - binary_accuracy: 0.9726 - val_loss: 0.5893 - val_binary_accuracy: 0.8416\n",
      "Epoch 41/50\n",
      "80/80 [==============================] - 3s 40ms/step - loss: 0.0546 - binary_accuracy: 0.9805 - val_loss: 0.6689 - val_binary_accuracy: 0.8559\n",
      "Epoch 42/50\n",
      "80/80 [==============================] - 3s 39ms/step - loss: 0.0390 - binary_accuracy: 0.9877 - val_loss: 0.7908 - val_binary_accuracy: 0.8491\n",
      "Epoch 43/50\n",
      "80/80 [==============================] - 3s 39ms/step - loss: 0.0367 - binary_accuracy: 0.9883 - val_loss: 0.7726 - val_binary_accuracy: 0.8559\n",
      "Epoch 44/50\n",
      "80/80 [==============================] - 3s 40ms/step - loss: 0.0368 - binary_accuracy: 0.9891 - val_loss: 0.7373 - val_binary_accuracy: 0.8481\n",
      "Epoch 45/50\n",
      "80/80 [==============================] - 3s 41ms/step - loss: 0.0333 - binary_accuracy: 0.9893 - val_loss: 0.6951 - val_binary_accuracy: 0.8509\n",
      "Epoch 46/50\n",
      "80/80 [==============================] - 3s 39ms/step - loss: 0.0307 - binary_accuracy: 0.9922 - val_loss: 0.7217 - val_binary_accuracy: 0.8553\n",
      "Epoch 47/50\n",
      "80/80 [==============================] - 3s 39ms/step - loss: 0.0290 - binary_accuracy: 0.9920 - val_loss: 0.7420 - val_binary_accuracy: 0.8582\n",
      "Epoch 48/50\n",
      "80/80 [==============================] - 3s 40ms/step - loss: 0.0240 - binary_accuracy: 0.9932 - val_loss: 0.8831 - val_binary_accuracy: 0.8547\n",
      "Epoch 49/50\n",
      "80/80 [==============================] - 3s 40ms/step - loss: 0.0284 - binary_accuracy: 0.9918 - val_loss: 0.8656 - val_binary_accuracy: 0.8578\n",
      "Epoch 50/50\n",
      "80/80 [==============================] - 3s 40ms/step - loss: 0.0227 - binary_accuracy: 0.9943 - val_loss: 0.9767 - val_binary_accuracy: 0.8521\n"
     ]
    }
   ],
   "source": [
    "history = model.fit(\n",
    "    ds_train,\n",
    "    validation_data=ds_valid,\n",
    "    epochs=50,\n",
    ")"
   ]
  },
  {
   "cell_type": "markdown",
   "id": "96c266ef",
   "metadata": {
    "papermill": {
     "duration": 0.170993,
     "end_time": "2024-07-06T21:15:15.172429",
     "exception": false,
     "start_time": "2024-07-06T21:15:15.001436",
     "status": "completed"
    },
    "tags": []
   },
   "source": [
    "And now run the cell below to plot the loss and metric curves for this training run."
   ]
  },
  {
   "cell_type": "code",
   "execution_count": 8,
   "id": "5cf91f46",
   "metadata": {
    "execution": {
     "iopub.execute_input": "2024-07-06T21:15:15.515236Z",
     "iopub.status.busy": "2024-07-06T21:15:15.514889Z",
     "iopub.status.idle": "2024-07-06T21:15:16.145915Z",
     "shell.execute_reply": "2024-07-06T21:15:16.144969Z"
    },
    "papermill": {
     "duration": 0.804872,
     "end_time": "2024-07-06T21:15:16.147948",
     "exception": false,
     "start_time": "2024-07-06T21:15:15.343076",
     "status": "completed"
    },
    "tags": []
   },
   "outputs": [
    {
     "data": {
      "image/png": "[encoded data removed]",
      "text/plain": [
       "<Figure size 640x480 with 1 Axes>"
      ]
     },
     "metadata": {},
     "output_type": "display_data"
    },
    {
     "data": {
      "image/png": "[encoded data removed]",
      "text/plain": [
       "<Figure size 640x480 with 1 Axes>"
      ]
     },
     "metadata": {},
     "output_type": "display_data"
    }
   ],
   "source": [
    "import pandas as pd\n",
    "history_frame = pd.DataFrame(history.history)\n",
    "history_frame.loc[:, ['loss', 'val_loss']].plot()\n",
    "history_frame.loc[:, ['binary_accuracy', 'val_binary_accuracy']].plot();"
   ]
  },
  {
   "cell_type": "markdown",
   "id": "bf7e35ea",
   "metadata": {
    "papermill": {
     "duration": 0.171843,
     "end_time": "2024-07-06T21:15:16.491900",
     "exception": false,
     "start_time": "2024-07-06T21:15:16.320057",
     "status": "completed"
    },
    "tags": []
   },
   "source": [
    "# 3) Train the Model #\n",
    "\n",
    "How would you interpret these training curves? Did this model improve upon the model from the tutorial?"
   ]
  },
  {
   "cell_type": "code",
   "execution_count": 9,
   "id": "03ed4571",
   "metadata": {
    "execution": {
     "iopub.execute_input": "2024-07-06T21:15:16.832899Z",
     "iopub.status.busy": "2024-07-06T21:15:16.832540Z",
     "iopub.status.idle": "2024-07-06T21:15:16.840100Z",
     "shell.execute_reply": "2024-07-06T21:15:16.839252Z"
    },
    "lines_to_next_cell": 0,
    "papermill": {
     "duration": 0.18083,
     "end_time": "2024-07-06T21:15:16.842004",
     "exception": false,
     "start_time": "2024-07-06T21:15:16.661174",
     "status": "completed"
    },
    "tags": []
   },
   "outputs": [
    {
     "data": {
      "application/javascript": [
       "parent.postMessage({\"jupyterEvent\": \"custom.exercise_interaction\", \"data\": {\"outcomeType\": 1, \"valueTowardsCompletion\": 0.3333333333333333, \"interactionType\": 1, \"questionType\": 4, \"questionId\": \"3_Q3\", \"learnToolsVersion\": \"0.3.4\", \"failureMessage\": \"\", \"exceptionClass\": \"\", \"trace\": \"\"}}, \"*\")"
      ],
      "text/plain": [
       "<IPython.core.display.Javascript object>"
      ]
     },
     "metadata": {},
     "output_type": "display_data"
    },
    {
     "data": {
      "text/markdown": [
       "<span style=\"color:#33cc33\">Correct:</span> \n",
       "\n",
       "\n",
       "The learning curves for the model from the tutorial diverged fairly rapidly. This would indicate that it was prone to overfitting and in need of some regularization. The additional layer in our new model would make it even more prone to overfitting. However, adding some regularization with the `Dropout` layer helped prevent this. These changes improved the validation accuracy of the model by several points.\n"
      ],
      "text/plain": [
       "Correct: \n",
       "\n",
       "\n",
       "The learning curves for the model from the tutorial diverged fairly rapidly. This would indicate that it was prone to overfitting and in need of some regularization. The additional layer in our new model would make it even more prone to overfitting. However, adding some regularization with the `Dropout` layer helped prevent this. These changes improved the validation accuracy of the model by several points."
      ]
     },
     "metadata": {},
     "output_type": "display_data"
    }
   ],
   "source": [
    "# View the solution (Run this code cell to receive credit!)\n",
    "q_3.check()"
   ]
  },
  {
   "cell_type": "markdown",
   "id": "0e857733",
   "metadata": {
    "papermill": {
     "duration": 0.171655,
     "end_time": "2024-07-06T21:15:17.184047",
     "exception": false,
     "start_time": "2024-07-06T21:15:17.012392",
     "status": "completed"
    },
    "tags": []
   },
   "source": [
    "# Conclusion #\n",
    "\n",
    "These exercises showed you how to design a custom convolutional network to solve a specific classification problem. Though most models these days will be built on top of a pretrained base, it certain circumstances a smaller custom convnet might still be preferable -- such as with a smaller or unusual dataset or when computing resources are very limited. As you saw here, for certain problems they can perform just as well as a pretrained model.\n",
    "\n",
    "# Keep Going #\n",
    "\n",
    "Continue on to [**Lesson 6**](https://www.kaggle.com/ryanholbrook/data-augmentation), where you'll learn a widely-used technique that can give a boost to your training data: **data augmentation**."
   ]
  },
  {
   "cell_type": "markdown",
   "id": "40b82c90",
   "metadata": {
    "papermill": {
     "duration": 0.193292,
     "end_time": "2024-07-06T21:15:17.591077",
     "exception": false,
     "start_time": "2024-07-06T21:15:17.397785",
     "status": "completed"
    },
    "tags": []
   },
   "source": [
    "---\n",
    "\n",
    "\n",
    "\n",
    "\n",
    "*Have questions or comments? Visit the [course discussion forum](https://www.kaggle.com/learn/computer-vision/discussion) to chat with other learners.*"
   ]
  }
 ],
 "metadata": {
  "jupytext": {
   "formats": "md,ipynb"
  },
  "kaggle": {
   "accelerator": "gpu",
   "dataSources": [
    {
     "datasetId": 708136,
     "sourceId": 1338830,
     "sourceType": "datasetVersion"
    },
    {
     "datasetId": 701538,
     "sourceId": 1363948,
     "sourceType": "datasetVersion"
    },
    {
     "datasetId": 878523,
     "sourceId": 1495782,
     "sourceType": "datasetVersion"
    }
   ],
   "dockerImageVersionId": 30648,
   "isGpuEnabled": true,
   "isInternetEnabled": false,
   "language": "python",
   "sourceType": "notebook"
  },
  "kernelspec": {
   "display_name": "Python 3",
   "language": "python",
   "name": "python3"
  },
  "language_info": {
   "codemirror_mode": {
    "name": "ipython",
    "version": 3
   },
   "file_extension": ".py",
   "mimetype": "text/x-python",
   "name": "python",
   "nbconvert_exporter": "python",
   "pygments_lexer": "ipython3",
   "version": "3.10.13"
  },
  "papermill": {
   "default_parameters": {},
   "duration": 204.104615,
   "end_time": "2024-07-06T21:15:19.685025",
   "environment_variables": {},
   "exception": null,
   "input_path": "__notebook__.ipynb",
   "output_path": "__notebook__.ipynb",
   "parameters": {},
   "start_time": "2024-07-06T21:11:55.580410",
   "version": "2.5.0"
  }
 },
 "nbformat": 4,
 "nbformat_minor": 5
}
