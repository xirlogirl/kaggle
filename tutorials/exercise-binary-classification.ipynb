{
 "cells": [
  {
   "cell_type": "markdown",
   "id": "08c9285d",
   "metadata": {
    "papermill": {
     "duration": 0.005004,
     "end_time": "2024-06-28T00:54:53.076752",
     "exception": false,
     "start_time": "2024-06-28T00:54:53.071748",
     "status": "completed"
    },
    "tags": []
   },
   "source": [
    "**This notebook is an exercise in the [Intro to Deep Learning](https://www.kaggle.com/learn/intro-to-deep-learning) course.  You can reference the tutorial at [this link](https://www.kaggle.com/ryanholbrook/binary-classification).**\n",
    "\n",
    "---\n"
   ]
  },
  {
   "cell_type": "markdown",
   "id": "45bd5cc3",
   "metadata": {
    "papermill": {
     "duration": 0.004444,
     "end_time": "2024-06-28T00:54:53.086053",
     "exception": false,
     "start_time": "2024-06-28T00:54:53.081609",
     "status": "completed"
    },
    "tags": []
   },
   "source": [
    "# Introduction #\n",
    "\n",
    "In this exercise, you'll build a model to predict hotel cancellations with a binary classifier."
   ]
  },
  {
   "cell_type": "code",
   "execution_count": 1,
   "id": "a5c14b7d",
   "metadata": {
    "execution": {
     "iopub.execute_input": "2024-06-28T00:54:53.097196Z",
     "iopub.status.busy": "2024-06-28T00:54:53.096824Z",
     "iopub.status.idle": "2024-06-28T00:54:53.910881Z",
     "shell.execute_reply": "2024-06-28T00:54:53.909948Z"
    },
    "lines_to_next_cell": 0,
    "papermill": {
     "duration": 0.822623,
     "end_time": "2024-06-28T00:54:53.913455",
     "exception": false,
     "start_time": "2024-06-28T00:54:53.090832",
     "status": "completed"
    },
    "tags": []
   },
   "outputs": [],
   "source": [
    "# Setup plotting\n",
    "import matplotlib.pyplot as plt\n",
    "plt.style.use('seaborn-v0_8-whitegrid')\n",
    "# Set Matplotlib defaults\n",
    "plt.rc('figure', autolayout=True)\n",
    "plt.rc('axes', labelweight='bold', labelsize='large',\n",
    "       titleweight='bold', titlesize=18, titlepad=10)\n",
    "plt.rc('animation', html='html5')\n",
    "\n",
    "# Setup feedback system\n",
    "from learntools.core import binder\n",
    "binder.bind(globals())\n",
    "from learntools.deep_learning_intro.ex6 import *"
   ]
  },
  {
   "cell_type": "markdown",
   "id": "756c26a2",
   "metadata": {
    "papermill": {
     "duration": 0.004638,
     "end_time": "2024-06-28T00:54:53.923442",
     "exception": false,
     "start_time": "2024-06-28T00:54:53.918804",
     "status": "completed"
    },
    "tags": []
   },
   "source": [
    "First, load the *Hotel Cancellations* dataset."
   ]
  },
  {
   "cell_type": "code",
   "execution_count": 2,
   "id": "528bdc9b",
   "metadata": {
    "execution": {
     "iopub.execute_input": "2024-06-28T00:54:53.934835Z",
     "iopub.status.busy": "2024-06-28T00:54:53.933926Z",
     "iopub.status.idle": "2024-06-28T00:54:56.756597Z",
     "shell.execute_reply": "2024-06-28T00:54:56.755511Z"
    },
    "lines_to_next_cell": 2,
    "papermill": {
     "duration": 2.831129,
     "end_time": "2024-06-28T00:54:56.759251",
     "exception": false,
     "start_time": "2024-06-28T00:54:53.928122",
     "status": "completed"
    },
    "tags": []
   },
   "outputs": [],
   "source": [
    "import pandas as pd\n",
    "\n",
    "from sklearn.model_selection import train_test_split\n",
    "from sklearn.preprocessing import StandardScaler, OneHotEncoder\n",
    "from sklearn.impute import SimpleImputer\n",
    "from sklearn.pipeline import make_pipeline\n",
    "from sklearn.compose import make_column_transformer\n",
    "\n",
    "hotel = pd.read_csv('../input/dl-course-data/hotel.csv')\n",
    "\n",
    "X = hotel.copy()\n",
    "y = X.pop('is_canceled')\n",
    "\n",
    "X['arrival_date_month'] = \\\n",
    "    X['arrival_date_month'].map(\n",
    "        {'January':1, 'February': 2, 'March':3,\n",
    "         'April':4, 'May':5, 'June':6, 'July':7,\n",
    "         'August':8, 'September':9, 'October':10,\n",
    "         'November':11, 'December':12}\n",
    "    )\n",
    "\n",
    "features_num = [\n",
    "    \"lead_time\", \"arrival_date_week_number\",\n",
    "    \"arrival_date_day_of_month\", \"stays_in_weekend_nights\",\n",
    "    \"stays_in_week_nights\", \"adults\", \"children\", \"babies\",\n",
    "    \"is_repeated_guest\", \"previous_cancellations\",\n",
    "    \"previous_bookings_not_canceled\", \"required_car_parking_spaces\",\n",
    "    \"total_of_special_requests\", \"adr\",\n",
    "]\n",
    "features_cat = [\n",
    "    \"hotel\", \"arrival_date_month\", \"meal\",\n",
    "    \"market_segment\", \"distribution_channel\",\n",
    "    \"reserved_room_type\", \"deposit_type\", \"customer_type\",\n",
    "]\n",
    "\n",
    "transformer_num = make_pipeline(\n",
    "    SimpleImputer(strategy=\"constant\"), # there are a few missing values\n",
    "    StandardScaler(),\n",
    ")\n",
    "transformer_cat = make_pipeline(\n",
    "    SimpleImputer(strategy=\"constant\", fill_value=\"NA\"),\n",
    "    OneHotEncoder(handle_unknown='ignore'),\n",
    ")\n",
    "\n",
    "preprocessor = make_column_transformer(\n",
    "    (transformer_num, features_num),\n",
    "    (transformer_cat, features_cat),\n",
    ")\n",
    "\n",
    "# stratify - make sure classes are evenlly represented across splits\n",
    "X_train, X_valid, y_train, y_valid = \\\n",
    "    train_test_split(X, y, stratify=y, train_size=0.75)\n",
    "\n",
    "X_train = preprocessor.fit_transform(X_train)\n",
    "X_valid = preprocessor.transform(X_valid)\n",
    "\n",
    "input_shape = [X_train.shape[1]]\n"
   ]
  },
  {
   "cell_type": "code",
   "execution_count": 3,
   "id": "6172c5f8",
   "metadata": {
    "execution": {
     "iopub.execute_input": "2024-06-28T00:54:56.773045Z",
     "iopub.status.busy": "2024-06-28T00:54:56.772119Z",
     "iopub.status.idle": "2024-06-28T00:54:56.779729Z",
     "shell.execute_reply": "2024-06-28T00:54:56.778700Z"
    },
    "papermill": {
     "duration": 0.016808,
     "end_time": "2024-06-28T00:54:56.781918",
     "exception": false,
     "start_time": "2024-06-28T00:54:56.765110",
     "status": "completed"
    },
    "tags": []
   },
   "outputs": [
    {
     "data": {
      "text/plain": [
       "63"
      ]
     },
     "execution_count": 3,
     "metadata": {},
     "output_type": "execute_result"
    }
   ],
   "source": [
    "input_shape[0]"
   ]
  },
  {
   "cell_type": "markdown",
   "id": "c6703ecf",
   "metadata": {
    "papermill": {
     "duration": 0.005249,
     "end_time": "2024-06-28T00:54:56.792653",
     "exception": false,
     "start_time": "2024-06-28T00:54:56.787404",
     "status": "completed"
    },
    "tags": []
   },
   "source": [
    "# 1) Define Model #\n",
    "\n",
    "The model we'll use this time will have both batch normalization and dropout layers. To ease reading we've broken the diagram into blocks, but you can define it layer by layer as usual.\n",
    "\n",
    "Define a model with an architecture given by this diagram:\n",
    "\n",
    "<figure style=\"padding: 1em;\">\n",
    "<img src=\"https://storage.googleapis.com/kaggle-media/learn/images/V04o59Z.png\" width=\"400\" alt=\"Diagram of network architecture: BatchNorm, Dense, BatchNorm, Dropout, Dense, BatchNorm, Dropout, Dense.\">\n",
    "<figcaption style=\"textalign: center; font-style: italic\"><center>Diagram of a binary classifier.</center></figcaption>\n",
    "</figure>\n"
   ]
  },
  {
   "cell_type": "code",
   "execution_count": 4,
   "id": "78a65aaa",
   "metadata": {
    "execution": {
     "iopub.execute_input": "2024-06-28T00:54:56.805448Z",
     "iopub.status.busy": "2024-06-28T00:54:56.804644Z",
     "iopub.status.idle": "2024-06-28T00:55:11.104055Z",
     "shell.execute_reply": "2024-06-28T00:55:11.103153Z"
    },
    "lines_to_next_cell": 2,
    "papermill": {
     "duration": 14.308278,
     "end_time": "2024-06-28T00:55:11.106386",
     "exception": false,
     "start_time": "2024-06-28T00:54:56.798108",
     "status": "completed"
    },
    "tags": []
   },
   "outputs": [
    {
     "name": "stderr",
     "output_type": "stream",
     "text": [
      "2024-06-28 00:54:58.728947: E external/local_xla/xla/stream_executor/cuda/cuda_dnn.cc:9261] Unable to register cuDNN factory: Attempting to register factory for plugin cuDNN when one has already been registered\n",
      "2024-06-28 00:54:58.729072: E external/local_xla/xla/stream_executor/cuda/cuda_fft.cc:607] Unable to register cuFFT factory: Attempting to register factory for plugin cuFFT when one has already been registered\n",
      "2024-06-28 00:54:58.873889: E external/local_xla/xla/stream_executor/cuda/cuda_blas.cc:1515] Unable to register cuBLAS factory: Attempting to register factory for plugin cuBLAS when one has already been registered\n"
     ]
    },
    {
     "data": {
      "application/javascript": [
       "parent.postMessage({\"jupyterEvent\": \"custom.exercise_interaction\", \"data\": {\"outcomeType\": 1, \"valueTowardsCompletion\": 0.3333333333333333, \"interactionType\": 1, \"questionType\": 2, \"questionId\": \"1_Q1\", \"learnToolsVersion\": \"0.3.4\", \"failureMessage\": \"\", \"exceptionClass\": \"\", \"trace\": \"\"}}, \"*\")"
      ],
      "text/plain": [
       "<IPython.core.display.Javascript object>"
      ]
     },
     "metadata": {},
     "output_type": "display_data"
    },
    {
     "data": {
      "text/markdown": [
       "<span style=\"color:#33cc33\">Correct</span>"
      ],
      "text/plain": [
       "Correct"
      ]
     },
     "metadata": {},
     "output_type": "display_data"
    }
   ],
   "source": [
    "from tensorflow import keras\n",
    "from tensorflow.keras import layers\n",
    "\n",
    "# YOUR CODE HERE: define the model given in the diagram\n",
    "model = keras.Sequential([\n",
    "        layers.BatchNormalization(),\n",
    "        layers.Dense(256, activation='relu'),\n",
    "        layers.BatchNormalization(),\n",
    "        layers.Dropout(0.3),                                \n",
    "        layers.Dense(256, activation='relu'),\n",
    "        layers.BatchNormalization(),\n",
    "        layers.Dropout(0.3),\n",
    "        layers.Dense(1, activation='sigmoid'),\n",
    "        ])\n",
    "\n",
    "# Check your answer\n",
    "q_1.check()"
   ]
  },
  {
   "cell_type": "markdown",
   "id": "70341301",
   "metadata": {
    "papermill": {
     "duration": 0.005519,
     "end_time": "2024-06-28T00:55:11.117660",
     "exception": false,
     "start_time": "2024-06-28T00:55:11.112141",
     "status": "completed"
    },
    "tags": []
   },
   "source": [
    "# 2) Add Optimizer, Loss, and Metric #\n",
    "\n",
    "Now compile the model with the Adam optimizer and binary versions of the cross-entropy loss and accuracy metric."
   ]
  },
  {
   "cell_type": "code",
   "execution_count": 5,
   "id": "47537566",
   "metadata": {
    "execution": {
     "iopub.execute_input": "2024-06-28T00:55:11.130474Z",
     "iopub.status.busy": "2024-06-28T00:55:11.130092Z",
     "iopub.status.idle": "2024-06-28T00:55:11.164263Z",
     "shell.execute_reply": "2024-06-28T00:55:11.163232Z"
    },
    "lines_to_next_cell": 0,
    "papermill": {
     "duration": 0.043158,
     "end_time": "2024-06-28T00:55:11.166497",
     "exception": false,
     "start_time": "2024-06-28T00:55:11.123339",
     "status": "completed"
    },
    "tags": []
   },
   "outputs": [
    {
     "data": {
      "application/javascript": [
       "parent.postMessage({\"jupyterEvent\": \"custom.exercise_interaction\", \"data\": {\"outcomeType\": 1, \"valueTowardsCompletion\": 0.3333333333333333, \"interactionType\": 1, \"questionType\": 2, \"questionId\": \"2_Q2\", \"learnToolsVersion\": \"0.3.4\", \"failureMessage\": \"\", \"exceptionClass\": \"\", \"trace\": \"\"}}, \"*\")"
      ],
      "text/plain": [
       "<IPython.core.display.Javascript object>"
      ]
     },
     "metadata": {},
     "output_type": "display_data"
    },
    {
     "data": {
      "text/markdown": [
       "<span style=\"color:#33cc33\">Correct</span>"
      ],
      "text/plain": [
       "Correct"
      ]
     },
     "metadata": {},
     "output_type": "display_data"
    }
   ],
   "source": [
    "# YOUR CODE HERE\n",
    "model.compile(\n",
    "    optimizer='adam',\n",
    "    loss='binary_crossentropy',\n",
    "    metrics=['binary_accuracy'],\n",
    ")\n",
    "\n",
    "# Check your answer\n",
    "q_2.check()"
   ]
  },
  {
   "cell_type": "code",
   "execution_count": 6,
   "id": "5a87a153",
   "metadata": {
    "execution": {
     "iopub.execute_input": "2024-06-28T00:55:11.180902Z",
     "iopub.status.busy": "2024-06-28T00:55:11.180003Z",
     "iopub.status.idle": "2024-06-28T00:55:11.184279Z",
     "shell.execute_reply": "2024-06-28T00:55:11.183352Z"
    },
    "lines_to_next_cell": 0,
    "papermill": {
     "duration": 0.013864,
     "end_time": "2024-06-28T00:55:11.186428",
     "exception": false,
     "start_time": "2024-06-28T00:55:11.172564",
     "status": "completed"
    },
    "tags": []
   },
   "outputs": [],
   "source": [
    "# Lines below will give you a hint or solution code\n",
    "#q_2.hint()\n",
    "#q_2.solution()"
   ]
  },
  {
   "cell_type": "markdown",
   "id": "9981018c",
   "metadata": {
    "papermill": {
     "duration": 0.005684,
     "end_time": "2024-06-28T00:55:11.198243",
     "exception": false,
     "start_time": "2024-06-28T00:55:11.192559",
     "status": "completed"
    },
    "tags": []
   },
   "source": [
    "Finally, run this cell to train the model and view the learning curves. It may run for around 60 to 70 epochs, which could take a minute or two."
   ]
  },
  {
   "cell_type": "code",
   "execution_count": 7,
   "id": "65360af2",
   "metadata": {
    "execution": {
     "iopub.execute_input": "2024-06-28T00:55:11.211448Z",
     "iopub.status.busy": "2024-06-28T00:55:11.211088Z",
     "iopub.status.idle": "2024-06-28T00:55:45.781148Z",
     "shell.execute_reply": "2024-06-28T00:55:45.780107Z"
    },
    "papermill": {
     "duration": 34.579703,
     "end_time": "2024-06-28T00:55:45.783647",
     "exception": false,
     "start_time": "2024-06-28T00:55:11.203944",
     "status": "completed"
    },
    "tags": []
   },
   "outputs": [
    {
     "name": "stdout",
     "output_type": "stream",
     "text": [
      "Epoch 1/200\n"
     ]
    },
    {
     "name": "stderr",
     "output_type": "stream",
     "text": [
      "WARNING: All log messages before absl::InitializeLog() is called are written to STDERR\n",
      "I0000 00:00:1719536116.195557      69 device_compiler.h:186] Compiled cluster using XLA!  This line is logged at most once for the lifetime of the process.\n"
     ]
    },
    {
     "name": "stdout",
     "output_type": "stream",
     "text": [
      "175/175 [==============================] - 7s 8ms/step - loss: 0.4875 - binary_accuracy: 0.7691 - val_loss: 0.4522 - val_binary_accuracy: 0.8000\n",
      "Epoch 2/200\n",
      "175/175 [==============================] - 1s 7ms/step - loss: 0.4256 - binary_accuracy: 0.7987 - val_loss: 0.4088 - val_binary_accuracy: 0.8114\n",
      "Epoch 3/200\n",
      "175/175 [==============================] - 1s 6ms/step - loss: 0.4105 - binary_accuracy: 0.8078 - val_loss: 0.3974 - val_binary_accuracy: 0.8137\n",
      "Epoch 4/200\n",
      "175/175 [==============================] - 1s 6ms/step - loss: 0.4023 - binary_accuracy: 0.8114 - val_loss: 0.3930 - val_binary_accuracy: 0.8179\n",
      "Epoch 5/200\n",
      "175/175 [==============================] - 1s 6ms/step - loss: 0.3973 - binary_accuracy: 0.8141 - val_loss: 0.3928 - val_binary_accuracy: 0.8183\n",
      "Epoch 6/200\n",
      "175/175 [==============================] - 1s 6ms/step - loss: 0.3926 - binary_accuracy: 0.8162 - val_loss: 0.3863 - val_binary_accuracy: 0.8206\n",
      "Epoch 7/200\n",
      "175/175 [==============================] - 1s 6ms/step - loss: 0.3889 - binary_accuracy: 0.8202 - val_loss: 0.3833 - val_binary_accuracy: 0.8252\n",
      "Epoch 8/200\n",
      "175/175 [==============================] - 1s 6ms/step - loss: 0.3856 - binary_accuracy: 0.8210 - val_loss: 0.3838 - val_binary_accuracy: 0.8237\n",
      "Epoch 9/200\n",
      "175/175 [==============================] - 1s 7ms/step - loss: 0.3818 - binary_accuracy: 0.8233 - val_loss: 0.3767 - val_binary_accuracy: 0.8274\n",
      "Epoch 10/200\n",
      "175/175 [==============================] - 1s 6ms/step - loss: 0.3789 - binary_accuracy: 0.8247 - val_loss: 0.3806 - val_binary_accuracy: 0.8251\n",
      "Epoch 11/200\n",
      "175/175 [==============================] - 1s 6ms/step - loss: 0.3785 - binary_accuracy: 0.8248 - val_loss: 0.3790 - val_binary_accuracy: 0.8241\n",
      "Epoch 12/200\n",
      "175/175 [==============================] - 1s 6ms/step - loss: 0.3760 - binary_accuracy: 0.8259 - val_loss: 0.3726 - val_binary_accuracy: 0.8287\n",
      "Epoch 13/200\n",
      "175/175 [==============================] - 1s 6ms/step - loss: 0.3729 - binary_accuracy: 0.8280 - val_loss: 0.3696 - val_binary_accuracy: 0.8308\n",
      "Epoch 14/200\n",
      "175/175 [==============================] - 1s 6ms/step - loss: 0.3704 - binary_accuracy: 0.8296 - val_loss: 0.3697 - val_binary_accuracy: 0.8301\n",
      "Epoch 15/200\n",
      "175/175 [==============================] - 1s 6ms/step - loss: 0.3694 - binary_accuracy: 0.8297 - val_loss: 0.3692 - val_binary_accuracy: 0.8288\n",
      "Epoch 16/200\n",
      "175/175 [==============================] - 1s 6ms/step - loss: 0.3673 - binary_accuracy: 0.8308 - val_loss: 0.3677 - val_binary_accuracy: 0.8323\n",
      "Epoch 17/200\n",
      "175/175 [==============================] - 1s 6ms/step - loss: 0.3644 - binary_accuracy: 0.8313 - val_loss: 0.3669 - val_binary_accuracy: 0.8313\n",
      "Epoch 18/200\n",
      "175/175 [==============================] - 1s 6ms/step - loss: 0.3637 - binary_accuracy: 0.8319 - val_loss: 0.3639 - val_binary_accuracy: 0.8328\n",
      "Epoch 19/200\n",
      "175/175 [==============================] - 1s 6ms/step - loss: 0.3614 - binary_accuracy: 0.8328 - val_loss: 0.3618 - val_binary_accuracy: 0.8339\n",
      "Epoch 20/200\n",
      "175/175 [==============================] - 1s 6ms/step - loss: 0.3601 - binary_accuracy: 0.8334 - val_loss: 0.3594 - val_binary_accuracy: 0.8354\n",
      "Epoch 21/200\n",
      "175/175 [==============================] - 1s 6ms/step - loss: 0.3593 - binary_accuracy: 0.8343 - val_loss: 0.3656 - val_binary_accuracy: 0.8315\n",
      "Epoch 22/200\n",
      "175/175 [==============================] - 1s 6ms/step - loss: 0.3580 - binary_accuracy: 0.8346 - val_loss: 0.3659 - val_binary_accuracy: 0.8301\n",
      "Epoch 23/200\n",
      "175/175 [==============================] - 1s 6ms/step - loss: 0.3561 - binary_accuracy: 0.8358 - val_loss: 0.3600 - val_binary_accuracy: 0.8334\n",
      "Epoch 24/200\n",
      "175/175 [==============================] - 1s 6ms/step - loss: 0.3550 - binary_accuracy: 0.8361 - val_loss: 0.3585 - val_binary_accuracy: 0.8347\n",
      "Epoch 25/200\n",
      "175/175 [==============================] - 1s 6ms/step - loss: 0.3540 - binary_accuracy: 0.8372 - val_loss: 0.3599 - val_binary_accuracy: 0.8344\n"
     ]
    },
    {
     "data": {
      "text/plain": [
       "<Axes: title={'center': 'Accuracy'}>"
      ]
     },
     "execution_count": 7,
     "metadata": {},
     "output_type": "execute_result"
    },
    {
     "data": {
      "image/png": "[encoded data removed]",
      "text/plain": [
       "<Figure size 640x480 with 1 Axes>"
      ]
     },
     "metadata": {},
     "output_type": "display_data"
    },
    {
     "data": {
      "image/png": "[encoded data removed]",
      "text/plain": [
       "<Figure size 640x480 with 1 Axes>"
      ]
     },
     "metadata": {},
     "output_type": "display_data"
    }
   ],
   "source": [
    "early_stopping = keras.callbacks.EarlyStopping(\n",
    "    patience=5,\n",
    "    min_delta=0.001,\n",
    "    restore_best_weights=True,\n",
    ")\n",
    "history = model.fit(\n",
    "    X_train, y_train,\n",
    "    validation_data=(X_valid, y_valid),\n",
    "    batch_size=512,\n",
    "    epochs=200,\n",
    "    callbacks=[early_stopping],\n",
    ")\n",
    "\n",
    "history_df = pd.DataFrame(history.history)\n",
    "history_df.loc[:, ['loss', 'val_loss']].plot(title=\"Cross-entropy\")\n",
    "history_df.loc[:, ['binary_accuracy', 'val_binary_accuracy']].plot(title=\"Accuracy\")"
   ]
  },
  {
   "cell_type": "markdown",
   "id": "5ff66fe6",
   "metadata": {
    "papermill": {
     "duration": 0.053964,
     "end_time": "2024-06-28T00:55:45.893084",
     "exception": false,
     "start_time": "2024-06-28T00:55:45.839120",
     "status": "completed"
    },
    "tags": []
   },
   "source": [
    "# 3) Train and Evaluate #\n",
    "\n",
    "\n",
    "What do you think about the learning curves? Does it look like the model underfit or overfit? Was the cross-entropy loss a good stand-in for accuracy?"
   ]
  },
  {
   "cell_type": "code",
   "execution_count": 8,
   "id": "4f958f51",
   "metadata": {
    "execution": {
     "iopub.execute_input": "2024-06-28T00:55:46.003834Z",
     "iopub.status.busy": "2024-06-28T00:55:46.002956Z",
     "iopub.status.idle": "2024-06-28T00:55:46.011790Z",
     "shell.execute_reply": "2024-06-28T00:55:46.010798Z"
    },
    "papermill": {
     "duration": 0.066262,
     "end_time": "2024-06-28T00:55:46.014086",
     "exception": false,
     "start_time": "2024-06-28T00:55:45.947824",
     "status": "completed"
    },
    "tags": []
   },
   "outputs": [
    {
     "data": {
      "application/javascript": [
       "parent.postMessage({\"jupyterEvent\": \"custom.exercise_interaction\", \"data\": {\"outcomeType\": 1, \"valueTowardsCompletion\": 0.3333333333333333, \"interactionType\": 1, \"questionType\": 4, \"questionId\": \"3_Q3\", \"learnToolsVersion\": \"0.3.4\", \"failureMessage\": \"\", \"exceptionClass\": \"\", \"trace\": \"\"}}, \"*\")"
      ],
      "text/plain": [
       "<IPython.core.display.Javascript object>"
      ]
     },
     "metadata": {},
     "output_type": "display_data"
    },
    {
     "data": {
      "text/markdown": [
       "<span style=\"color:#33cc33\">Correct:</span> \n",
       "\n",
       "Though we can see the training loss continuing to fall, the early stopping callback prevented any overfitting. Moreover, the accuracy rose at the same rate as the cross-entropy fell, so it appears that minimizing cross-entropy was a good stand-in. All in all, it looks like this training was a success!"
      ],
      "text/plain": [
       "Correct: \n",
       "\n",
       "Though we can see the training loss continuing to fall, the early stopping callback prevented any overfitting. Moreover, the accuracy rose at the same rate as the cross-entropy fell, so it appears that minimizing cross-entropy was a good stand-in. All in all, it looks like this training was a success!"
      ]
     },
     "metadata": {},
     "output_type": "display_data"
    }
   ],
   "source": [
    "# View the solution (Run this cell to receive credit!)\n",
    "q_3.check()"
   ]
  },
  {
   "cell_type": "markdown",
   "id": "4100ad57",
   "metadata": {
    "papermill": {
     "duration": 0.054917,
     "end_time": "2024-06-28T00:55:46.125024",
     "exception": false,
     "start_time": "2024-06-28T00:55:46.070107",
     "status": "completed"
    },
    "tags": []
   },
   "source": [
    "# Conclusion #\n",
    "\n",
    "Congratulations! You've completed Kaggle's *Introduction to Deep Learning* course!\n",
    "\n",
    "With your new skills you're ready to take on more advanced applications like computer vision and sentiment classification. What would you like to do next?\n",
    "\n",
    "Why not try one of our *Getting Started* competitions?\n",
    "\n",
    "- Classify images with TPUs in [**Petals to the Metal**](https://www.kaggle.com/c/tpu-getting-started)\n",
    "- Create art with GANs in [**I'm Something of a Painter Myself**](https://www.kaggle.com/c/gan-getting-started)\n",
    "- Classify Tweets in [**Real or Not? NLP with Disaster Tweets**](https://www.kaggle.com/c/nlp-getting-started)\n",
    "- Detect contradiction and entailment in [**Contradictory, My Dear Watson**](https://www.kaggle.com/c/contradictory-my-dear-watson)\n",
    "\n",
    "Until next time, Kagglers!"
   ]
  },
  {
   "cell_type": "markdown",
   "id": "f2180a97",
   "metadata": {
    "papermill": {
     "duration": 0.053351,
     "end_time": "2024-06-28T00:55:46.230914",
     "exception": false,
     "start_time": "2024-06-28T00:55:46.177563",
     "status": "completed"
    },
    "tags": []
   },
   "source": [
    "---\n",
    "\n",
    "\n",
    "\n",
    "\n",
    "*Have questions or comments? Visit the [course discussion forum](https://www.kaggle.com/learn/intro-to-deep-learning/discussion) to chat with other learners.*"
   ]
  }
 ],
 "metadata": {
  "jupytext": {
   "cell_metadata_filter": "-all",
   "formats": "ipynb"
  },
  "kaggle": {
   "accelerator": "gpu",
   "dataSources": [
    {
     "datasetId": 829369,
     "sourceId": 1480608,
     "sourceType": "datasetVersion"
    }
   ],
   "dockerImageVersionId": 30648,
   "isGpuEnabled": true,
   "isInternetEnabled": false,
   "language": "python",
   "sourceType": "notebook"
  },
  "kernelspec": {
   "display_name": "Python 3",
   "language": "python",
   "name": "python3"
  },
  "language_info": {
   "codemirror_mode": {
    "name": "ipython",
    "version": 3
   },
   "file_extension": ".py",
   "mimetype": "text/x-python",
   "name": "python",
   "nbconvert_exporter": "python",
   "pygments_lexer": "ipython3",
   "version": "3.10.13"
  },
  "papermill": {
   "default_parameters": {},
   "duration": 59.313139,
   "end_time": "2024-06-28T00:55:49.348669",
   "environment_variables": {},
   "exception": null,
   "input_path": "__notebook__.ipynb",
   "output_path": "__notebook__.ipynb",
   "parameters": {},
   "start_time": "2024-06-28T00:54:50.035530",
   "version": "2.5.0"
  }
 },
 "nbformat": 4,
 "nbformat_minor": 5
}
